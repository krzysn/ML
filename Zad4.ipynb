{
 "cells": [
  {
   "cell_type": "markdown",
   "metadata": {},
   "source": [
    "Load all librarys"
   ]
  },
  {
   "cell_type": "code",
   "execution_count": 1,
   "metadata": {
    "collapsed": true
   },
   "outputs": [],
   "source": [
    "import matplotlib.pyplot as plt\n",
    "import numpy as np\n",
    "import random"
   ]
  },
  {
   "cell_type": "markdown",
   "metadata": {},
   "source": [
    "Load and create the data"
   ]
  },
  {
   "cell_type": "code",
   "execution_count": 2,
   "metadata": {},
   "outputs": [
    {
     "data": {
      "image/png": "[encoded data removed]",
      "text/plain": [
       "<matplotlib.figure.Figure at 0x7fb4176bacf8>"
      ]
     },
     "metadata": {},
     "output_type": "display_data"
    }
   ],
   "source": [
    "X=np.array([(4,1940),(9,2960),(9,4630),(78,1528),(90,2040),(50,3700),(467,14815),(509,15200),(290,15700),(215,6045)])\n",
    "\n",
    "x1 = np.array(X[:,0])\n",
    "x2 = np.array(X[:,1])\n",
    "\n",
    "fig,ax= plt.subplots()\n",
    "ax.scatter(x1,x2)\n",
    "ax.set(xlabel='Seats count', ylabel='Distance range (km)',\n",
    "       title='Aircrafts')\n",
    "ax.grid()\n",
    "\n",
    "plt.show()\n"
   ]
  },
  {
   "cell_type": "code",
   "execution_count": 3,
   "metadata": {},
   "outputs": [],
   "source": [
    "#normalize the data\n",
    "train_data = np.array(X)\n",
    "max_values = train_data.max(0)\n",
    "\n",
    "X_norm = np.divide(train_data,max_values)\n",
    "x1_norm=np.array(X_norm[:,0])\n",
    "x2_norm=np.array(X_norm[:,1])\n",
    "\n",
    "ax_norm=plt.subplot()\n",
    "\n",
    "ax_norm.scatter(x1_norm,x2_norm)\n",
    "ax_norm.set(xlabel='Seats count', ylabel='Distance range (km)',\n",
    "       title='Aircrafts')\n",
    "ax_norm.grid()\n"
   ]
  },
  {
   "cell_type": "markdown",
   "metadata": {},
   "source": [
    "Calculate variables necessery for distance measurement."
   ]
  },
  {
   "cell_type": "code",
   "execution_count": 4,
   "metadata": {},
   "outputs": [
    {
     "name": "stdout",
     "output_type": "stream",
     "text": [
      "[[ 0.  0.]\n",
      " [ 0.  0.]\n",
      " [ 0.  0.]\n",
      " [ 0.  0.]\n",
      " [ 0.  0.]\n",
      " [ 0.  0.]\n",
      " [ 0.  0.]\n",
      " [ 0.  0.]\n",
      " [ 0.  0.]\n",
      " [ 0.  0.]]\n",
      "cov*cov^-1:\n",
      " [[ 1.  0.]\n",
      " [ 0.  1.]]\n",
      "cov:\n",
      " [[ 0.1407423   0.1289333 ]\n",
      " [ 0.1289333   0.14320383]]\n",
      "centroids: [(0.7111223621823564, 0.697946030939557), (0.9686183549713892, 0.8185064011488496)]\n"
     ]
    }
   ],
   "source": [
    "data_set=X_norm\n",
    "groups = 2\n",
    "space=[[0,1],[0,1]]\n",
    "\n",
    "error_margin = 0.0001\n",
    "m = 2.0\n",
    "\n",
    "assignation=np.zeros((len(X),groups))\n",
    "print(assignation)\n",
    "\n",
    "cov=np.cov(X_norm.transpose())\n",
    "cov_revers=np.linalg.inv(cov)\n",
    "print(\"cov*cov^-1:\\n\",np.dot(cov,cov_revers))\n",
    "print(\"cov:\\n\",cov)\n",
    "\n",
    "#create random centroids\n",
    "centers = []\n",
    "def select_centers():\n",
    "    global centers\n",
    "    global groups\n",
    "    global space\n",
    "    iter=0\n",
    "    while iter<groups:\n",
    "        centers.append((random.uniform(space[0][0],space[0][1]), \n",
    "                        random.uniform(space[1][0],space[1][1])))\n",
    "        iter=iter+1\n",
    "        \n",
    "select_centers()\n",
    "print(\"centroids:\",centers)"
   ]
  },
  {
   "cell_type": "code",
   "execution_count": 5,
   "metadata": {
    "collapsed": true
   },
   "outputs": [],
   "source": [
    "def mahalanobis_distance (vec, mean):\n",
    "    difference=(vec-mean)\n",
    "    #print(difference)\n",
    "    dist2=np.dot(difference,np.dot(cov_revers,difference))\n",
    "    #print(dist2)\n",
    "    return np.sqrt(dist2)"
   ]
  },
  {
   "cell_type": "code",
   "execution_count": 6,
   "metadata": {},
   "outputs": [
    {
     "data": {
      "text/plain": [
       "11.457597806597636"
      ]
     },
     "execution_count": 6,
     "metadata": {},
     "output_type": "execute_result"
    }
   ],
   "source": [
    "#cov=np.array([[1,0],[0,1]])\n",
    "#cov_revers=np.linalg.inv(cov)\n",
    "a=np.array([4,3])\n",
    "b=np.array([0,0])\n",
    "\n",
    "mahalanobis_distance(a,b)"
   ]
  },
  {
   "cell_type": "code",
   "execution_count": 7,
   "metadata": {
    "collapsed": true
   },
   "outputs": [],
   "source": [
    "def calculate_u(x, i):\n",
    "    global centers\n",
    "    if mahalanobis_distance(x, centers[0]) > mahalanobis_distance(x, centers[1]):\n",
    "        return [0,1]\n",
    "    else:\n",
    "        return [1,0]\n",
    "    \n",
    "def calculate_new_centers(u):\n",
    "    global centers\n",
    "    new_centers=[]\n",
    "    for c in range(groups):\n",
    "        u_x_vector=np.zeros(2)\n",
    "        u_scalar=0.0\n",
    "        for i in range(len(data_set)):\n",
    "            u_scalar = u_scalar+(u[i][c]**m)\n",
    "            u_x_vector=np.add(u_x_vector,np.multiply(u[i][c]**m,data_set[i]))\n",
    "        new_centers.append(np.divide(u_x_vector,u_scalar))\n",
    "    print(\"    old center: \",centers,\"\\n    new center:\", new_centers)\n",
    "    centers=new_centers\n",
    "    \n",
    "def calculate_differences(new_assignation):\n",
    "    global assignation\n",
    "    #print(np.subtract(assignation,new_assignation))\n",
    "    return np.sum(np.abs(np.subtract(assignation,new_assignation)))\n",
    "    #return np.sum(np.abs(assignation-new_assignation))\n",
    "\n",
    "def cluster():\n",
    "    global assignation    \n",
    "    global error_margin\n",
    "    difference_limit_not_achieved=True\n",
    "    iter=0\n",
    "    \n",
    "    while difference_limit_not_achieved:\n",
    "        new_assignation=[]\n",
    "        print(\"inter no: \",iter)\n",
    "        for i in range(len(data_set)):\n",
    "            new_assignation.append(calculate_u(data_set[i], iter))\n",
    "        calculate_new_centers(new_assignation)\n",
    "        if iter>0:\n",
    "            if calculate_differences(new_assignation) < error_margin:\n",
    "                difference_limit_not_achieved=False\n",
    "        \n",
    "        print(\"  assignation: \",assignation)\n",
    "        print(\"  centers: \",centers)\n",
    "        print(\"  difference:\",calculate_differences(new_assignation))\n",
    "        assignation=new_assignation\n",
    "        iter=iter+1"
   ]
  },
  {
   "cell_type": "code",
   "execution_count": 8,
   "metadata": {},
   "outputs": [
    {
     "name": "stdout",
     "output_type": "stream",
     "text": [
      "inter no:  0\n",
      "    old center:  [(0.7111223621823564, 0.697946030939557), (0.9686183549713892, 0.8185064011488496)] \n",
      "    new center: [array([ 0.26457105,  0.37762208]), array([ 1.        ,  0.96815287])]\n",
      "  assignation:  [[ 0.  0.]\n",
      " [ 0.  0.]\n",
      " [ 0.  0.]\n",
      " [ 0.  0.]\n",
      " [ 0.  0.]\n",
      " [ 0.  0.]\n",
      " [ 0.  0.]\n",
      " [ 0.  0.]\n",
      " [ 0.  0.]\n",
      " [ 0.  0.]]\n",
      "  centers:  [array([ 0.26457105,  0.37762208]), array([ 1.        ,  0.96815287])]\n",
      "  difference: 10.0\n",
      "inter no:  1\n",
      "    old center:  [array([ 0.26457105,  0.37762208]), array([ 1.        ,  0.96815287])] \n",
      "    new center: [array([ 0.18295678,  0.30687102]), array([ 0.95874263,  0.95589172])]\n",
      "  assignation:  [[1, 0], [1, 0], [1, 0], [1, 0], [1, 0], [1, 0], [1, 0], [0, 1], [1, 0], [1, 0]]\n",
      "  centers:  [array([ 0.18295678,  0.30687102]), array([ 0.95874263,  0.95589172])]\n",
      "  difference: 2\n",
      "inter no:  2\n",
      "    old center:  [array([ 0.18295678,  0.30687102]), array([ 0.95874263,  0.95589172])] \n",
      "    new center: [array([ 0.18295678,  0.30687102]), array([ 0.95874263,  0.95589172])]\n",
      "  assignation:  [[1, 0], [1, 0], [1, 0], [1, 0], [1, 0], [1, 0], [0, 1], [0, 1], [1, 0], [1, 0]]\n",
      "  centers:  [array([ 0.18295678,  0.30687102]), array([ 0.95874263,  0.95589172])]\n",
      "  difference: 0\n"
     ]
    }
   ],
   "source": [
    "cluster()"
   ]
  },
  {
   "cell_type": "raw",
   "metadata": {},
   "source": []
  },
  {
   "cell_type": "markdown",
   "metadata": {},
   "source": [
    "Własna wersja programu"
   ]
  },
  {
   "cell_type": "code",
   "execution_count": 9,
   "metadata": {},
   "outputs": [
    {
     "data": {
      "image/png": "[encoded data removed]",
      "text/plain": [
       "<matplotlib.figure.Figure at 0x7fb4176ba9b0>"
      ]
     },
     "metadata": {},
     "output_type": "display_data"
    },
    {
     "data": {
      "image/png": "[encoded data removed]",
      "text/plain": [
       "<matplotlib.figure.Figure at 0x7fb4144fd668>"
      ]
     },
     "metadata": {},
     "output_type": "display_data"
    }
   ],
   "source": [
    "#wczytanie danych\n",
    "X=np.array([(4,1940),(9,2960),(9,4630),(78,1528),(90,2040),(50,3700),(467,14815),(509,15200),(290,15700),(215,6045)])\n",
    "\n",
    "x1 = np.array(X[:,0])\n",
    "x2 = np.array(X[:,1])\n",
    "\n",
    "fig,ax= plt.subplots()\n",
    "ax.scatter(x1,x2)\n",
    "ax.set(xlabel='Seats count', ylabel='Distance range (km)',\n",
    "       title='Aircrafts')\n",
    "ax.grid()\n",
    "\n",
    "plt.show()"
   ]
  },
  {
   "cell_type": "code",
   "execution_count": 10,
   "metadata": {},
   "outputs": [
    {
     "data": {
      "image/png": "[encoded data removed]",
      "text/plain": [
       "<matplotlib.figure.Figure at 0x7fb414554da0>"
      ]
     },
     "metadata": {},
     "output_type": "display_data"
    }
   ],
   "source": [
    "#normalize the data\n",
    "train_data = np.array(X)\n",
    "max_values = train_data.max(0)\n",
    "\n",
    "X_norm = np.divide(train_data,max_values)\n",
    "x1_norm=np.array(X_norm[:,0])\n",
    "x2_norm=np.array(X_norm[:,1])\n",
    "\n",
    "ax_norm=plt.subplot()\n",
    "\n",
    "ax_norm.scatter(x1_norm,x2_norm)\n",
    "ax_norm.set(xlabel='Seats count', ylabel='Distance range (km)',\n",
    "       title='Aircrafts')\n",
    "ax_norm.grid()\n",
    "\n",
    "plt.show()"
   ]
  },
  {
   "cell_type": "code",
   "execution_count": 79,
   "metadata": {},
   "outputs": [],
   "source": [
    "class model:\n",
    "    #clusters=0\n",
    "    #data_set\n",
    "    #dimensions\n",
    "    #centers\n",
    "    #assignation\n",
    "    #old_assignation\n",
    "    m=2\n",
    "               \n",
    "    def print_model(self):\n",
    "        print(\"Model after \",self.itertion,\" itereations:\\n\")\n",
    "        print(\"  given number of clusters: \",self.clusters,\"\\n\")\n",
    "        #print(\"  centers:\", self.means)\n",
    "        print(\"  points assignation:\\n\", self.assignation,\"\\n  old    assignation:\\n\",self.old_assignation)\n",
    "        print(\"  mean points according to weight avarage\\n\", self.mean)\n",
    "        print(\"  etas for each point:\\n\",self.etas,\"\\n\")\n",
    "        print(\"  ****************************************\\n \\n\")\n",
    "        \n",
    "    def cov(self,n):# covariance matrix for n-cluster\n",
    "        return np.cov(self.data_set.transpose())\n",
    "    \n",
    "    def cov_rev(self,n):#reverse covariant matrix for n-cluster\n",
    "        return np.linalg.inv(self.cov(n))\n",
    "    \n",
    "    def mahalanobis_distance (self, vec, cluster):\n",
    "        #print(\"distance cluster\", cluster)\n",
    "        #print(\"distance vector\", vec)\n",
    "        mean=self.mean[cluster]\n",
    "        difference=np.subtract(vec,mean[cluster])\n",
    "        dist2=np.dot(difference,np.dot(self.rew_cov[cluster],difference))\n",
    "        return np.sqrt(dist2)\n",
    "    \n",
    "    def calc_mean(self, dimension,cluster):\n",
    "        temp=self.data_set[:,dimension]#*self.assignation[:,cluster]\n",
    "        return np.mean(temp)\n",
    "    \n",
    "    def calc_means(self):\n",
    "        self.mean=[]\n",
    "        for j in range (0,self.clusters):\n",
    "            temp=[]\n",
    "            for i in range (0,self.dimensions):\n",
    "                temp.append(self.calc_mean(i,j))\n",
    "            self.mean.append(temp)\n",
    "            \n",
    "    def assignation_func(self,vec,cluster,i):\n",
    "        return (1+(self.mahalanobis_distance(vec,cluster)/self.etas[i])**(2/(m-1)))**(-1)\n",
    "    \n",
    "    def eta(self,i):\n",
    "        a=0\n",
    "        b=0\n",
    "        for j in range (0, self.clusters):\n",
    "            a=a+((self.assignation[i,j]**m)*self.mahalanobis_distance(self.data_set[i,:],j)**2)\n",
    "            b=b+((self.assignation[i,j])**m)\n",
    "        return a/b\n",
    "        \n",
    "    def set_etas(self):\n",
    "        self.etas=[]\n",
    "        for i in range (0,len(self.data_set)):\n",
    "            self.etas.append(self.eta(i))\n",
    "    \n",
    "    def iterate(self):\n",
    "        self.itertion=self.itertion+1\n",
    "        self.old_assignation=self.assignation.copy()  \n",
    "        for i in range(0,len(self.assignation)):\n",
    "            for j in range (0, self.clusters):\n",
    "                #print(np.ndarray.tolist(self.data_set[i,:]),j)\n",
    "                self.assignation[i,j]=self.assignation_func(self.data_set[i,:],j,i)\n",
    "        \n",
    "        self.set_etas()\n",
    "        self.calc_means()\n",
    "        self.print_model()\n",
    "        \n",
    "    def __init__(self, data, number_of_clusters):\n",
    "        self.data_set=data\n",
    "        self.clusters=number_of_clusters\n",
    "        self.dimensions=int(len(self.data_set[0]))\n",
    "        self.points=int(len(self.data_set))\n",
    "        self.old_assignation=np.zeros((self.points,self.clusters))\n",
    "        self.assignation=np.random.rand(self.points,self.clusters)\n",
    "        self.rew_cov=[]\n",
    "        self.centers=[]\n",
    "        self.mean=self.centers\n",
    "        self.itertion=0\n",
    "        #self.cov=np.cov(self.data_set.transpose())\n",
    "        #self.cov_revers=np.linalg.inv(self.cov)\n",
    "        for i in range (0,self.clusters):\n",
    "            self.centers.append(np.random.rand(self.dimensions))\n",
    "            self.rew_cov.append(self.cov_rev(i))   \n",
    "        self.set_etas()\n",
    "        "
   ]
  },
  {
   "cell_type": "code",
   "execution_count": 81,
   "metadata": {},
   "outputs": [
    {
     "name": "stdout",
     "output_type": "stream",
     "text": [
      "Model after  0  itereations:\n",
      "\n",
      "  given number of clusters:  2 \n",
      "\n",
      "  points assignation:\n",
      " [[ 0.83228904  0.19427212]\n",
      " [ 0.43109925  0.51101881]\n",
      " [ 0.43819013  0.23323762]\n",
      " [ 0.84619896  0.53928414]\n",
      " [ 0.22955166  0.75130351]\n",
      " [ 0.27811962  0.665473  ]\n",
      " [ 0.86615272  0.52455642]\n",
      " [ 0.60382511  0.12850004]\n",
      " [ 0.92826272  0.64760444]\n",
      " [ 0.50189013  0.14948295]] \n",
      "  old    assignation:\n",
      " [[ 0.  0.]\n",
      " [ 0.  0.]\n",
      " [ 0.  0.]\n",
      " [ 0.  0.]\n",
      " [ 0.  0.]\n",
      " [ 0.  0.]\n",
      " [ 0.  0.]\n",
      " [ 0.  0.]\n",
      " [ 0.  0.]\n",
      " [ 0.  0.]]\n",
      "  mean points according to weight avarage\n",
      " [array([ 0.74325396,  0.44657993]), array([ 0.6358585 ,  0.82932119])]\n",
      "  etas for each point:\n",
      " [4.0064712175049806, 4.7360439406205108, 5.7866184423562324, 3.1581599977841139, 3.3683307663445197, 3.910154349726441, 0.23312368053205723, 0.46161839047182662, 7.1106738553535624, 0.93564797369333219] \n",
      "\n",
      "  ****************************************\n",
      " \n",
      "\n",
      "Model after  1  itereations:\n",
      "\n",
      "  given number of clusters:  2 \n",
      "\n",
      "  points assignation:\n",
      " [[ 0.80216584  0.76679526]\n",
      " [ 0.84156889  0.81470591]\n",
      " [ 0.85658816  0.83903994]\n",
      " [ 0.77375383  0.72657503]\n",
      " [ 0.8115278   0.76750845]\n",
      " [ 0.82546173  0.79146348]\n",
      " [ 0.16161642  0.35194036]\n",
      " [ 0.31077068  0.49290471]\n",
      " [ 0.87684313  0.87642342]\n",
      " [ 0.49414027  0.38808635]] \n",
      "  old    assignation:\n",
      " [[ 0.83228904  0.19427212]\n",
      " [ 0.43109925  0.51101881]\n",
      " [ 0.43819013  0.23323762]\n",
      " [ 0.84619896  0.53928414]\n",
      " [ 0.22955166  0.75130351]\n",
      " [ 0.27811962  0.665473  ]\n",
      " [ 0.86615272  0.52455642]\n",
      " [ 0.60382511  0.12850004]\n",
      " [ 0.92826272  0.64760444]\n",
      " [ 0.50189013  0.14948295]]\n",
      "  mean points according to weight avarage\n",
      " [[0.3381139489194499, 0.4366751592356688], [0.3381139489194499, 0.4366751592356688]]\n",
      "  etas for each point:\n",
      " [4.3995019578155086, 4.6477777848267712, 6.0064506599586291, 3.3086090268809007, 3.0135391095048623, 3.6139179031595159, 0.13174309726756878, 0.29129592861933901, 7.1154340284026834, 1.0809004243485378] \n",
      "\n",
      "  ****************************************\n",
      " \n",
      "\n",
      "Model after  2  itereations:\n",
      "\n",
      "  given number of clusters:  2 \n",
      "\n",
      "  points assignation:\n",
      " [[ 0.94698403  0.92541929]\n",
      " [ 0.93282216  0.91598642]\n",
      " [ 0.91788758  0.90965979]\n",
      " [ 0.96083598  0.92999945]\n",
      " [ 0.964902    0.93150026]\n",
      " [ 0.93170294  0.91024902]\n",
      " [ 0.0066116   0.00945267]\n",
      " [ 0.02635235  0.03612237]\n",
      " [ 0.85709579  0.86513819]\n",
      " [ 0.93065938  0.95059464]] \n",
      "  old    assignation:\n",
      " [[ 0.80216584  0.76679526]\n",
      " [ 0.84156889  0.81470591]\n",
      " [ 0.85658816  0.83903994]\n",
      " [ 0.77375383  0.72657503]\n",
      " [ 0.8115278   0.76750845]\n",
      " [ 0.82546173  0.79146348]\n",
      " [ 0.16161642  0.35194036]\n",
      " [ 0.31077068  0.49290471]\n",
      " [ 0.87684313  0.87642342]\n",
      " [ 0.49414027  0.38808635]]\n",
      "  mean points according to weight avarage\n",
      " [[0.3381139489194499, 0.4366751592356688], [0.3381139489194499, 0.4366751592356688]]\n",
      "  etas for each point:\n",
      " [1.3162646829563394, 1.7646122540735061, 3.4035717671698698, 0.62892386509944231, 0.49313458268770033, 1.1187196342654002, 2.0779564951088028, 2.5667056502870129, 8.1643492066745083, 0.073607282129764404] \n",
      "\n",
      "  ****************************************\n",
      " \n",
      "\n",
      "Model after  3  itereations:\n",
      "\n",
      "  given number of clusters:  2 \n",
      "\n",
      "  points assignation:\n",
      " [[ 0.61521858  0.52622049]\n",
      " [ 0.66684609  0.61113999]\n",
      " [ 0.78210377  0.7637718 ]\n",
      " [ 0.46991121  0.32434717]\n",
      " [ 0.42401951  0.26693874]\n",
      " [ 0.56658517  0.4928665 ]\n",
      " [ 0.62346399  0.70362343]\n",
      " [ 0.67756102  0.74422125]\n",
      " [ 0.88759396  0.89413198]\n",
      " [ 0.05859362  0.0819169 ]] \n",
      "  old    assignation:\n",
      " [[ 0.94698403  0.92541929]\n",
      " [ 0.93282216  0.91598642]\n",
      " [ 0.91788758  0.90965979]\n",
      " [ 0.96083598  0.92999945]\n",
      " [ 0.964902    0.93150026]\n",
      " [ 0.93170294  0.91024902]\n",
      " [ 0.0066116   0.00945267]\n",
      " [ 0.02635235  0.03612237]\n",
      " [ 0.85709579  0.86513819]\n",
      " [ 0.93065938  0.95059464]]\n",
      "  mean points according to weight avarage\n",
      " [[0.3381139489194499, 0.4366751592356688], [0.3381139489194499, 0.4366751592356688]]\n",
      "  etas for each point:\n",
      " [1.2848375962935978, 1.7499701489627093, 3.4009570120080741, 0.56809930983986623, 0.42612397444058264, 1.0996889539937413, 2.1657793106938312, 2.6589062779787738, 8.1648984484701295, 0.069633348766965614] \n",
      "\n",
      "  ****************************************\n",
      " \n",
      "\n",
      "Model after  4  itereations:\n",
      "\n",
      "  given number of clusters:  2 \n",
      "\n",
      "  points assignation:\n",
      " [[ 0.60371557  0.51415797]\n",
      " [ 0.66313362  0.60717245]\n",
      " [ 0.78184171  0.76349436]\n",
      " [ 0.4197186   0.2814475 ]\n",
      " [ 0.35471031  0.21377589]\n",
      " [ 0.5581401   0.48429245]\n",
      " [ 0.64269211  0.72059261]\n",
      " [ 0.69278438  0.75742412]\n",
      " [ 0.88760738  0.89414471]\n",
      " [ 0.05276247  0.07394697]] \n",
      "  old    assignation:\n",
      " [[ 0.61521858  0.52622049]\n",
      " [ 0.66684609  0.61113999]\n",
      " [ 0.78210377  0.7637718 ]\n",
      " [ 0.46991121  0.32434717]\n",
      " [ 0.42401951  0.26693874]\n",
      " [ 0.56658517  0.4928665 ]\n",
      " [ 0.62346399  0.70362343]\n",
      " [ 0.67756102  0.74422125]\n",
      " [ 0.88759396  0.89413198]\n",
      " [ 0.05859362  0.0819169 ]]\n",
      "  mean points according to weight avarage\n",
      " [[0.3381139489194499, 0.4366751592356688], [0.3381139489194499, 0.4366751592356688]]\n",
      "  etas for each point:\n",
      " [1.2838352975544756, 1.749773649598652, 3.4009520040516605, 0.56337529460792302, 0.42025451985211948, 1.0992788507882501, 2.168325528457804, 2.6609074288104049, 8.1648986899611344, 0.069604267932616107] \n",
      "\n",
      "  ****************************************\n",
      " \n",
      "\n",
      "Model after  5  itereations:\n",
      "\n",
      "  given number of clusters:  2 \n",
      "\n",
      "  points assignation:\n",
      " [[ 0.6033421   0.51376808]\n",
      " [ 0.66308345  0.60711888]\n",
      " [ 0.78184121  0.76349383]\n",
      " [ 0.41565665  0.27808244]\n",
      " [ 0.34838686  0.20915056]\n",
      " [ 0.55795612  0.48410614]\n",
      " [ 0.64323157  0.7210655 ]\n",
      " [ 0.69310453  0.75770048]\n",
      " [ 0.88760739  0.89414472]\n",
      " [ 0.05272073  0.07388978]] \n",
      "  old    assignation:\n",
      " [[ 0.60371557  0.51415797]\n",
      " [ 0.66313362  0.60717245]\n",
      " [ 0.78184171  0.76349436]\n",
      " [ 0.4197186   0.2814475 ]\n",
      " [ 0.35471031  0.21377589]\n",
      " [ 0.5581401   0.48429245]\n",
      " [ 0.64269211  0.72059261]\n",
      " [ 0.69278438  0.75742412]\n",
      " [ 0.88760738  0.89414471]\n",
      " [ 0.05276247  0.07394697]]\n",
      "  mean points according to weight avarage\n",
      " [[0.3381139489194499, 0.4366751592356688], [0.3381139489194499, 0.4366751592356688]]\n",
      "  etas for each point:\n",
      " [1.2838028508108827, 1.7497709954938114, 3.400951994452365, 0.56300325273816298, 0.41974279905859024, 1.0992699310561711, 2.1683967798872206, 2.660949432440598, 8.1648986900673037, 0.069604059687941602] \n",
      "\n",
      "  ****************************************\n",
      " \n",
      "\n"
     ]
    }
   ],
   "source": [
    "ala=model(X_norm,2)\n",
    "ala.print_model()\n",
    "#ala.assignation_func([1,1],1)\n",
    "for i in range (0,5):\n",
    "    ala.iterate()\n",
    "\n",
    "#ala.centers[1]"
   ]
  },
  {
   "cell_type": "code",
   "execution_count": 13,
   "metadata": {},
   "outputs": [
    {
     "name": "stdout",
     "output_type": "stream",
     "text": [
      "[1, 1, 99]\n"
     ]
    },
    {
     "data": {
      "text/plain": [
       "array([ 0,  0, 98])"
      ]
     },
     "execution_count": 13,
     "metadata": {},
     "output_type": "execute_result"
    }
   ],
   "source": [
    "a=[1,1]\n",
    "a.append(99)\n",
    "print(a)\n",
    "b=[1,1,1]\n",
    "np.subtract(a,b)"
   ]
  },
  {
   "cell_type": "code",
   "execution_count": 14,
   "metadata": {},
   "outputs": [
    {
     "name": "stdout",
     "output_type": "stream",
     "text": [
      "[[ 0.00785855  0.12356688]\n",
      " [ 0.01768173  0.18853503]\n",
      " [ 0.01768173  0.29490446]\n",
      " [ 0.15324165  0.09732484]\n",
      " [ 0.17681729  0.12993631]\n",
      " [ 0.09823183  0.23566879]\n",
      " [ 0.91748527  0.94363057]\n",
      " [ 1.          0.96815287]\n",
      " [ 0.5697446   1.        ]\n",
      " [ 0.42239686  0.38503185]]\n"
     ]
    }
   ],
   "source": [
    "print(X_norm)\n"
   ]
  },
  {
   "cell_type": "code",
   "execution_count": null,
   "metadata": {
    "collapsed": true
   },
   "outputs": [],
   "source": []
  }
 ],
 "metadata": {
  "kernelspec": {
   "display_name": "Python 3",
   "language": "python",
   "name": "python3"
  },
  "language_info": {
   "codemirror_mode": {
    "name": "ipython",
    "version": 3
   },
   "file_extension": ".py",
   "mimetype": "text/x-python",
   "name": "python",
   "nbconvert_exporter": "python",
   "pygments_lexer": "ipython3",
   "version": "3.6.3"
  }
 },
 "nbformat": 4,
 "nbformat_minor": 2
}
