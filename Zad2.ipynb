{
 "cells": [
  {
   "cell_type": "code",
   "execution_count": 4,
   "metadata": {},
   "outputs": [
    {
     "name": "stdout",
     "output_type": "stream",
     "text": [
      "30\n",
      "['mean radius' 'mean texture' 'mean perimeter' 'mean area'\n",
      " 'mean smoothness' 'mean compactness' 'mean concavity'\n",
      " 'mean concave points' 'mean symmetry' 'mean fractal dimension'\n",
      " 'radius error' 'texture error' 'perimeter error' 'area error'\n",
      " 'smoothness error' 'compactness error' 'concavity error'\n",
      " 'concave points error' 'symmetry error' 'fractal dimension error'\n",
      " 'worst radius' 'worst texture' 'worst perimeter' 'worst area'\n",
      " 'worst smoothness' 'worst compactness' 'worst concavity'\n",
      " 'worst concave points' 'worst symmetry' 'worst fractal dimension']\n",
      "['malignant' 'benign']\n",
      "0\n"
     ]
    },
    {
     "data": {
      "text/plain": [
       "array(['malignant', 'benign'],\n",
       "      dtype='<U9')"
      ]
     },
     "execution_count": 4,
     "metadata": {},
     "output_type": "execute_result"
    }
   ],
   "source": [
    "from sklearn.datasets import load_breast_cancer\n",
    "data_set = load_breast_cancer()\n",
    "print(data_set.feature_names.size)\n",
    "print(data_set.feature_names)\n",
    "print(data_set.target_names)\n",
    "print(data_set.target[3])\n",
    "data_set.target_names\n",
    "#list(data_set.target_names)\n",
    "#is it miligant or benign? "
   ]
  },
  {
   "cell_type": "code",
   "execution_count": 5,
   "metadata": {},
   "outputs": [
    {
     "name": "stdout",
     "output_type": "stream",
     "text": [
      "(569, 30)\n",
      "(569,)\n"
     ]
    }
   ],
   "source": [
    "X, y = data_set[\"data\"], data_set[\"target\"]\n",
    "print(X.shape)\n",
    "print(y.shape)"
   ]
  },
  {
   "cell_type": "markdown",
   "metadata": {},
   "source": [
    "Logistic regresion from sklearn"
   ]
  },
  {
   "cell_type": "code",
   "execution_count": 6,
   "metadata": {},
   "outputs": [
    {
     "data": {
      "text/plain": [
       "0.93859649122807021"
      ]
     },
     "execution_count": 6,
     "metadata": {},
     "output_type": "execute_result"
    }
   ],
   "source": [
    "from sklearn.linear_model import LogisticRegression\n",
    "from sklearn.model_selection import train_test_split\n",
    "from sklearn.metrics import confusion_matrix\n",
    "from sklearn.model_selection import cross_val_predict\n",
    "from sklearn.model_selection import cross_val_score\n",
    "from sklearn.metrics import accuracy_score, classification_report\n",
    "\n",
    "X_train,X_test,y_train,y_test = train_test_split(X,y, test_size = 0.2, random_state = 10)\n",
    "\n",
    "#X_train_df = vect.transform(X_train)\n",
    "#y_train_df = vect.transform(y_train)\n",
    "\n",
    "model = LogisticRegression()\n",
    "model.fit(X_train,y_train)\n",
    "prediction=model.predict(X_test)\n",
    "accuracy_score(y_test,prediction"
   ]
  },
  {
   "cell_type": "code",
   "execution_count": 7,
   "metadata": {},
   "outputs": [
    {
     "data": {
      "text/plain": [
       "array([ 0.95364238,  0.95238095,  0.97902098,  0.95774648,  0.97142857])"
      ]
     },
     "execution_count": 7,
     "metadata": {},
     "output_type": "execute_result"
    }
   ],
   "source": [
    "cross_val_score(model, X, y, cv=5, scoring=\"f1\")"
   ]
  },
  {
   "cell_type": "markdown",
   "metadata": {},
   "source": [
    "Naive bias from sklearn"
   ]
  },
  {
   "cell_type": "code",
   "execution_count": 8,
   "metadata": {
    "collapsed": true
   },
   "outputs": [],
   "source": [
    "from sklearn.naive_bayes import GaussianNB\n",
    "gnb = GaussianNB()\n",
    "y_pred = gnb.fit(X,y).predict(X)\n"
   ]
  },
  {
   "cell_type": "code",
   "execution_count": 106,
   "metadata": {},
   "outputs": [
    {
     "name": "stdout",
     "output_type": "stream",
     "text": [
      "Number of mislabeled points out of a total 569 points : 33\n",
      "accurancy score: 0.956140350877\n"
     ]
    }
   ],
   "source": [
    "print(\"Number of mislabeled points out of a total %d points : %d\"\n",
    "...       % (X.shape[0],(y != y_pred).sum()))\n",
    "cross_val_score(gnb, X, y, cv=5, scoring=\"f1\")\n",
    "\n",
    "prediction=gnb.predict(X_test)\n",
    "print(\"accurancy score:\", accuracy_score(y_test,prediction))\n"
   ]
  },
  {
   "cell_type": "markdown",
   "metadata": {},
   "source": [
    "My own gausian bayes"
   ]
  },
  {
   "cell_type": "code",
   "execution_count": 14,
   "metadata": {},
   "outputs": [
    {
     "data": {
      "image/png": "[encoded data removed]",
      "text/plain": [
       "<matplotlib.figure.Figure at 0x7fa76590cfd0>"
      ]
     },
     "metadata": {},
     "output_type": "display_data"
    },
    {
     "data": {
      "image/png": "[encoded data removed]",
      "text/plain": [
       "<matplotlib.figure.Figure at 0x7fa7658fcc50>"
      ]
     },
     "metadata": {},
     "output_type": "display_data"
    },
    {
     "data": {
      "image/png": "[encoded data removed]",
      "text/plain": [
       "<matplotlib.figure.Figure at 0x7fa76583e908>"
      ]
     },
     "metadata": {},
     "output_type": "display_data"
    }
   ],
   "source": [
    "#Check data\n",
    "###########\n",
    "import numpy as nu\n",
    "from matplotlib import pyplot as plt\n",
    "\n",
    "for i in range (0,9):\n",
    "    bins = nu.linspace(-1, X_train[:,i].max(),20)\n",
    "    plt.hist(X_train[:,i], bins, alpha=0.5)\n",
    "plt.show()\n",
    "for i in range (9,19):\n",
    "    bins = nu.linspace(-1, X_train[:,i].max(),20)\n",
    "    plt.hist(X_train[:,i], bins, alpha=0.5)\n",
    "plt.show()\n",
    "for i in range (19,29):\n",
    "    bins = nu.linspace(-1, X_train[:,i].max(),20)\n",
    "    plt.hist(X_train[:,i], bins, alpha=0.5)\n",
    "plt.show()"
   ]
  },
  {
   "cell_type": "code",
   "execution_count": 107,
   "metadata": {
    "collapsed": true
   },
   "outputs": [],
   "source": [
    "#calculate gaus parameters for one dimension\n",
    "#[training set, posible expected variables (1,0), column number in whole data, expected value for this parameters (0 or 1)]\n",
    "def get_gaus_param(x,y,column,value):\n",
    "    values=[]    \n",
    "    for i in range (0,len(x[:,column])):\n",
    "        if y[i]==value:\n",
    "            values.append(x[i,column])\n",
    "    mu=nu.mean(values)\n",
    "    sigma=nu.var(values)\n",
    "    return mu, sigma\n",
    "\n",
    "#calculate gauss parameters for all variables\n",
    "#training set, array of labels , expected value of label\n",
    "\n",
    "def get_all_param(x,y,value):\n",
    "    mu=[]\n",
    "    sigma=[]\n",
    "    n_col=x.shape[1]\n",
    "    for i in range (0,n_col):\n",
    "        mu1,sigma1=get_gaus_param(x,y,i,value)\n",
    "        mu.append(mu1)\n",
    "        sigma.append(sigma1)\n",
    "    \n",
    "    return mu,sigma\n",
    "\n",
    "def normpdf(x, mean, sd):\n",
    "    var = float(sd)\n",
    "    pi = 3.1415926\n",
    "    denom = (2*pi*var)**.5\n",
    "    num = math.exp(-(float(x)-float(mean))**2/(2*var))\n",
    "    if ((num/denom)<0.001):\n",
    "        return 0.001\n",
    "    else:\n",
    "        return num/denom\n",
    "    "
   ]
  },
  {
   "cell_type": "code",
   "execution_count": 108,
   "metadata": {
    "scrolled": true
   },
   "outputs": [
    {
     "data": {
      "image/png": "[encoded data removed]",
      "text/plain": [
       "<matplotlib.figure.Figure at 0x7fa76590ceb8>"
      ]
     },
     "metadata": {},
     "output_type": "display_data"
    }
   ],
   "source": [
    "\n",
    "#checking by drawing\n",
    "import math\n",
    "import matplotlib.mlab as mlab\n",
    "a,b=get_all_param(X_train,y_train,0)\n",
    "\n",
    "malignant_mu,maligant_sigma=get_all_param(X_train,y_train,1)\n",
    "benigin_mu,benigin_sigma=a,b\n",
    "\n",
    "\n",
    "nn=9\n",
    "bins = nu.linspace(X_train[:,nn].min(), X_train[:,nn].max(),20)\n",
    "plt.hist(X_train[:,nn], bins,normed=1)\n",
    "#pyplot.show()\n",
    "\n",
    "xx = nu.arange(X_train[:,nn].min(), X_train[:,nn].max(), 0.0001)\n",
    "plt.plot(xx, mlab.normpdf(xx, a[nn], math.sqrt(b[nn]) ))\n",
    "plt.show()\n",
    "#I should plot only points from bening points, but at least I checked order of magnitude"
   ]
  },
  {
   "cell_type": "markdown",
   "metadata": {},
   "source": [
    "Check model "
   ]
  },
  {
   "cell_type": "code",
   "execution_count": 109,
   "metadata": {},
   "outputs": [],
   "source": [
    "#evaluate model\n",
    "def point_value(vec):\n",
    "    malignant_values=[]\n",
    "    benigin_values=[]\n",
    "    for i in range (0,len(vec)):\n",
    "        malignant_values.append(normpdf(vec[i],malignant_mu[i],maligant_sigma[i]))\n",
    "        benigin_values.append(normpdf(vec[i],benigin_mu[i],benigin_sigma[i]))\n",
    "        #print(\"gauss value\", malignant_values[-1], benigin_values[-1])\n",
    "\n",
    "    #for n in malignant_values:\n",
    "     #   if n<0.01:\n",
    "      #      malignant_values.remove(n)\n",
    "    #for n in benigin_values:\n",
    "     #   if n<0.01:\n",
    "      #      benigin_values.remove(n)\n",
    "    \n",
    "    #print(malignant_values,\"\\endl\",benigin_values)\n",
    "        \n",
    "    m_v=nu.prod(malignant_values)\n",
    "    b_v=nu.prod(benigin_values)\n",
    "    #print(\"gaus product: \",m_v,b_v)\n",
    "    \n",
    "    if(m_v > b_v):\n",
    "        return 1\n",
    "    else:\n",
    "        return 0\n",
    "\n",
    "def evaluate_model(x_test,yy_test):\n",
    "    n=x_test.shape[0]\n",
    "    print(x_test.shape)\n",
    "    print(yy_test.shape)\n",
    "    correctness=[]\n",
    "    for i in range (0,n):\n",
    "        value=point_value(x_test[i,:])\n",
    "        print(value,\"\\t\",yy_test[i])\n",
    "        if(value==yy_test[i]):\n",
    "            correctness.append(1)\n",
    "        else:\n",
    "            correctness.append(0)\n",
    "    print(sum(correctness)/n)\n",
    "    "
   ]
  },
  {
   "cell_type": "code",
   "execution_count": 104,
   "metadata": {},
   "outputs": [
    {
     "name": "stdout",
     "output_type": "stream",
     "text": [
      "(114, 30)\n",
      "(114,)\n",
      "0 \t 0\n",
      "1 \t 1\n",
      "1 \t 1\n",
      "0 \t 0\n",
      "1 \t 1\n",
      "0 \t 1\n",
      "1 \t 1\n",
      "1 \t 1\n",
      "0 \t 0\n",
      "0 \t 0\n",
      "1 \t 1\n",
      "1 \t 1\n",
      "0 \t 0\n",
      "1 \t 1\n",
      "0 \t 0\n",
      "0 \t 0\n",
      "1 \t 1\n",
      "1 \t 1\n",
      "1 \t 1\n",
      "1 \t 1\n",
      "0 \t 0\n",
      "0 \t 0\n",
      "1 \t 1\n",
      "1 \t 1\n",
      "0 \t 0\n",
      "0 \t 0\n",
      "1 \t 1\n",
      "0 \t 0\n",
      "1 \t 1\n",
      "1 \t 1\n",
      "1 \t 1\n",
      "1 \t 1\n",
      "0 \t 0\n",
      "1 \t 1\n",
      "1 \t 1\n",
      "1 \t 1\n",
      "1 \t 1\n",
      "1 \t 1\n",
      "1 \t 1\n",
      "1 \t 1\n",
      "1 \t 1\n",
      "1 \t 1\n",
      "0 \t 1\n",
      "0 \t 0\n",
      "1 \t 1\n",
      "0 \t 0\n",
      "0 \t 0\n",
      "0 \t 0\n",
      "0 \t 0\n",
      "0 \t 1\n",
      "1 \t 1\n",
      "1 \t 1\n",
      "0 \t 0\n",
      "1 \t 1\n",
      "1 \t 1\n",
      "0 \t 0\n",
      "0 \t 0\n",
      "1 \t 1\n",
      "1 \t 1\n",
      "1 \t 1\n",
      "0 \t 0\n",
      "1 \t 1\n",
      "0 \t 0\n",
      "0 \t 0\n",
      "1 \t 1\n",
      "1 \t 1\n",
      "1 \t 1\n",
      "1 \t 1\n",
      "1 \t 0\n",
      "0 \t 0\n",
      "1 \t 1\n",
      "1 \t 1\n",
      "1 \t 1\n",
      "1 \t 1\n",
      "1 \t 1\n",
      "0 \t 0\n",
      "1 \t 1\n",
      "1 \t 1\n",
      "1 \t 0\n",
      "1 \t 0\n",
      "1 \t 1\n",
      "1 \t 1\n",
      "0 \t 0\n",
      "1 \t 1\n",
      "1 \t 1\n",
      "1 \t 1\n",
      "1 \t 1\n",
      "1 \t 1\n",
      "1 \t 1\n",
      "1 \t 1\n",
      "1 \t 1\n",
      "1 \t 1\n",
      "1 \t 0\n",
      "1 \t 1\n",
      "1 \t 1\n",
      "1 \t 1\n",
      "0 \t 0\n",
      "1 \t 1\n",
      "0 \t 0\n",
      "1 \t 1\n",
      "0 \t 0\n",
      "0 \t 0\n",
      "1 \t 1\n",
      "1 \t 1\n",
      "1 \t 1\n",
      "1 \t 1\n",
      "0 \t 0\n",
      "0 \t 0\n",
      "1 \t 1\n",
      "1 \t 1\n",
      "1 \t 1\n",
      "1 \t 1\n",
      "0 \t 0\n",
      "0 \t 0\n",
      "0.9385964912280702\n"
     ]
    }
   ],
   "source": [
    "evaluate_model(X_test,y_test)"
   ]
  },
  {
   "cell_type": "code",
   "execution_count": 2,
   "metadata": {},
   "outputs": [
    {
     "data": {
      "text/plain": [
       "<scipy.stats._distn_infrastructure.rv_frozen at 0x7fa7947cefd0>"
      ]
     },
     "execution_count": 2,
     "metadata": {},
     "output_type": "execute_result"
    }
   ],
   "source": [
    "\n",
    "    \n",
    "    "
   ]
  },
  {
   "cell_type": "code",
   "execution_count": 19,
   "metadata": {},
   "outputs": [
    {
     "data": {
      "text/plain": [
       "0"
      ]
     },
     "execution_count": 19,
     "metadata": {},
     "output_type": "execute_result"
    }
   ],
   "source": [
    "ala=[1,2,1,1,0,1,1]\n",
    "nu.prod(ala)"
   ]
  },
  {
   "cell_type": "code",
   "execution_count": null,
   "metadata": {
    "collapsed": true
   },
   "outputs": [],
   "source": []
  }
 ],
 "metadata": {
  "kernelspec": {
   "display_name": "Python 3",
   "language": "python",
   "name": "python3"
  },
  "language_info": {
   "codemirror_mode": {
    "name": "ipython",
    "version": 3
   },
   "file_extension": ".py",
   "mimetype": "text/x-python",
   "name": "python",
   "nbconvert_exporter": "python",
   "pygments_lexer": "ipython3",
   "version": "3.6.3"
  }
 },
 "nbformat": 4,
 "nbformat_minor": 2
}
