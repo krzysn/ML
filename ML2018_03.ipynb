{
 "cells": [
  {
   "cell_type": "markdown",
   "metadata": {
    "_cell_guid": "0e236465-31d2-7cb7-e30c-534829e74e67",
    "_uuid": "9ac02fdc887092eb2f8fd4509b94981fb71cb244"
   },
   "source": [
    "# 2018 Mashine Learning course at the Faculty of Physics, Astronomy and Applied Computer Science\n",
    "\n",
    "## Lab class no. 3 - Variable selection, Regularization and Principal Component Analysis\n",
    "by Piotr Warchoł\n",
    "\n",
    "\n",
    "This is an amalgamation of a couple opensource notebooks from the web, with some adjustments.\n",
    "\n",
    "Today, we will do some variable selection and work throuhg a principal components analysis example."
   ]
  },
  {
   "cell_type": "code",
   "execution_count": 70,
   "metadata": {
    "_cell_guid": "8dc9f4a5-a803-262d-0a35-ec5b91f72e43",
    "_uuid": "484dbbacb61aa87830c9828fe43d6d40bc78c2f8"
   },
   "outputs": [],
   "source": [
    "# To support both python 2 and python 3\n",
    "from __future__ import division, print_function, unicode_literals\n",
    "\n",
    "# To plot pretty figures\n",
    "import matplotlib\n",
    "import matplotlib.pyplot as plt\n",
    "import matplotlib.cm as cmx\n",
    "import matplotlib.colors as colors\n",
    "plt.rcParams['axes.labelsize'] = 14\n",
    "plt.rcParams['xtick.labelsize'] = 12\n",
    "plt.rcParams['ytick.labelsize'] = 12\n",
    "plt.rcParams['figure.figsize']=12,10\n",
    "import seaborn as sns\n",
    "\n",
    "import itertools as it\n",
    "import pandas as pd\n",
    "import numpy as np\n",
    "#import os\n",
    "\n",
    "import warnings\n",
    "warnings.filterwarnings('ignore')\n",
    "\n",
    "\n",
    "from sklearn.linear_model import LinearRegression as Lin_Reg\n",
    "from sklearn.linear_model import Ridge as Ridge_Reg\n",
    "from sklearn.linear_model import Lasso as Lasso_Reg\n",
    "from sklearn import cross_validation\n",
    "#from statsmodels.regression.linear_model import OLS\n",
    "import sklearn.preprocessing as Preprocessing\n",
    "\n",
    "from sklearn.cross_validation import train_test_split\n",
    "from sklearn.cross_validation import KFold\n",
    "from sklearn.cross_validation import cross_val_score\n",
    "\n",
    "import itertools as it\n",
    "from itertools import combinations\n",
    "\n",
    "import scipy as sp\n",
    "\n",
    "\n",
    "# to make this notebook's output stable across runs\n",
    "np.random.seed(42)"
   ]
  },
  {
   "cell_type": "code",
   "execution_count": 2,
   "metadata": {
    "collapsed": true
   },
   "outputs": [],
   "source": [
    "%matplotlib inline"
   ]
  },
  {
   "cell_type": "markdown",
   "metadata": {},
   "source": [
    "### Predictor selection, Lasso, Ridge Regressions\n",
    "\n",
    "(This part of the notebook is based on solutions to a Harvard machine learning class by Tim Hagmann.)\n",
    "\n",
    "\n",
    "First, lets look at some data and check if the predictors are correalted..."
   ]
  },
  {
   "cell_type": "code",
   "execution_count": 55,
   "metadata": {},
   "outputs": [
    {
     "data": {
      "text/html": [
       "<div>\n",
       "<style>\n",
       "    .dataframe thead tr:only-child th {\n",
       "        text-align: right;\n",
       "    }\n",
       "\n",
       "    .dataframe thead th {\n",
       "        text-align: left;\n",
       "    }\n",
       "\n",
       "    .dataframe tbody tr th {\n",
       "        vertical-align: top;\n",
       "    }\n",
       "</style>\n",
       "<table border=\"1\" class=\"dataframe\">\n",
       "  <thead>\n",
       "    <tr style=\"text-align: right;\">\n",
       "      <th></th>\n",
       "      <th>0</th>\n",
       "      <th>1</th>\n",
       "      <th>2</th>\n",
       "      <th>3</th>\n",
       "      <th>4</th>\n",
       "      <th>5</th>\n",
       "      <th>6</th>\n",
       "      <th>7</th>\n",
       "      <th>8</th>\n",
       "      <th>9</th>\n",
       "      <th>10</th>\n",
       "    </tr>\n",
       "  </thead>\n",
       "  <tbody>\n",
       "    <tr>\n",
       "      <th>0</th>\n",
       "      <td>0.959357</td>\n",
       "      <td>0.959357</td>\n",
       "      <td>0.959357</td>\n",
       "      <td>0.343727</td>\n",
       "      <td>0.524083</td>\n",
       "      <td>0.537768</td>\n",
       "      <td>0.435598</td>\n",
       "      <td>0.831999</td>\n",
       "      <td>0.153247</td>\n",
       "      <td>0.005016</td>\n",
       "      <td>0.289394</td>\n",
       "    </tr>\n",
       "    <tr>\n",
       "      <th>1</th>\n",
       "      <td>0.616969</td>\n",
       "      <td>0.616969</td>\n",
       "      <td>0.616969</td>\n",
       "      <td>0.287376</td>\n",
       "      <td>0.513844</td>\n",
       "      <td>0.497775</td>\n",
       "      <td>0.452732</td>\n",
       "      <td>0.914609</td>\n",
       "      <td>0.367390</td>\n",
       "      <td>0.444473</td>\n",
       "      <td>-0.277574</td>\n",
       "    </tr>\n",
       "    <tr>\n",
       "      <th>2</th>\n",
       "      <td>0.995941</td>\n",
       "      <td>0.995941</td>\n",
       "      <td>0.995941</td>\n",
       "      <td>0.107294</td>\n",
       "      <td>0.097106</td>\n",
       "      <td>0.146751</td>\n",
       "      <td>0.136414</td>\n",
       "      <td>0.635926</td>\n",
       "      <td>0.535209</td>\n",
       "      <td>0.899457</td>\n",
       "      <td>-0.513097</td>\n",
       "    </tr>\n",
       "    <tr>\n",
       "      <th>3</th>\n",
       "      <td>0.821732</td>\n",
       "      <td>0.821732</td>\n",
       "      <td>0.821732</td>\n",
       "      <td>0.202558</td>\n",
       "      <td>0.329504</td>\n",
       "      <td>0.359471</td>\n",
       "      <td>0.281453</td>\n",
       "      <td>0.106263</td>\n",
       "      <td>0.479327</td>\n",
       "      <td>0.256271</td>\n",
       "      <td>-0.182353</td>\n",
       "    </tr>\n",
       "    <tr>\n",
       "      <th>4</th>\n",
       "      <td>0.302423</td>\n",
       "      <td>0.302423</td>\n",
       "      <td>0.302423</td>\n",
       "      <td>0.184564</td>\n",
       "      <td>0.270263</td>\n",
       "      <td>0.293385</td>\n",
       "      <td>0.263866</td>\n",
       "      <td>0.378630</td>\n",
       "      <td>0.740241</td>\n",
       "      <td>0.468589</td>\n",
       "      <td>-0.625117</td>\n",
       "    </tr>\n",
       "  </tbody>\n",
       "</table>\n",
       "</div>"
      ],
      "text/plain": [
       "         0         1         2         3         4         5         6   \\\n",
       "0  0.959357  0.959357  0.959357  0.343727  0.524083  0.537768  0.435598   \n",
       "1  0.616969  0.616969  0.616969  0.287376  0.513844  0.497775  0.452732   \n",
       "2  0.995941  0.995941  0.995941  0.107294  0.097106  0.146751  0.136414   \n",
       "3  0.821732  0.821732  0.821732  0.202558  0.329504  0.359471  0.281453   \n",
       "4  0.302423  0.302423  0.302423  0.184564  0.270263  0.293385  0.263866   \n",
       "\n",
       "         7         8         9         10  \n",
       "0  0.831999  0.153247  0.005016  0.289394  \n",
       "1  0.914609  0.367390  0.444473 -0.277574  \n",
       "2  0.635926  0.535209  0.899457 -0.513097  \n",
       "3  0.106263  0.479327  0.256271 -0.182353  \n",
       "4  0.378630  0.740241  0.468589 -0.625117  "
      ]
     },
     "execution_count": 55,
     "metadata": {},
     "output_type": "execute_result"
    }
   ],
   "source": [
    "# Load data\n",
    "data = np.loadtxt('../ML.2018/datasets/dataset_1.txt', delimiter=',', skiprows=1)\n",
    "\n",
    "# Split predictors and response\n",
    "x = data[:, :-1]\n",
    "y = data[:, -1]\n",
    "\n",
    "df = pd.DataFrame(data)\n",
    "df.head()"
   ]
  },
  {
   "cell_type": "code",
   "execution_count": 4,
   "metadata": {},
   "outputs": [
    {
     "data": {
      "text/html": [
       "<div>\n",
       "<style>\n",
       "    .dataframe thead tr:only-child th {\n",
       "        text-align: right;\n",
       "    }\n",
       "\n",
       "    .dataframe thead th {\n",
       "        text-align: left;\n",
       "    }\n",
       "\n",
       "    .dataframe tbody tr th {\n",
       "        vertical-align: top;\n",
       "    }\n",
       "</style>\n",
       "<table border=\"1\" class=\"dataframe\">\n",
       "  <thead>\n",
       "    <tr style=\"text-align: right;\">\n",
       "      <th></th>\n",
       "      <th>0</th>\n",
       "      <th>1</th>\n",
       "      <th>2</th>\n",
       "      <th>3</th>\n",
       "      <th>4</th>\n",
       "      <th>5</th>\n",
       "      <th>6</th>\n",
       "      <th>7</th>\n",
       "      <th>8</th>\n",
       "      <th>9</th>\n",
       "    </tr>\n",
       "  </thead>\n",
       "  <tbody>\n",
       "    <tr>\n",
       "      <th>0</th>\n",
       "      <td>1.000000</td>\n",
       "      <td>1.000000</td>\n",
       "      <td>1.000000</td>\n",
       "      <td>-0.189945</td>\n",
       "      <td>-0.232439</td>\n",
       "      <td>-0.215623</td>\n",
       "      <td>-0.228322</td>\n",
       "      <td>-0.047643</td>\n",
       "      <td>-0.061022</td>\n",
       "      <td>0.050977</td>\n",
       "    </tr>\n",
       "    <tr>\n",
       "      <th>1</th>\n",
       "      <td>1.000000</td>\n",
       "      <td>1.000000</td>\n",
       "      <td>1.000000</td>\n",
       "      <td>-0.189945</td>\n",
       "      <td>-0.232439</td>\n",
       "      <td>-0.215623</td>\n",
       "      <td>-0.228322</td>\n",
       "      <td>-0.047643</td>\n",
       "      <td>-0.061022</td>\n",
       "      <td>0.050977</td>\n",
       "    </tr>\n",
       "    <tr>\n",
       "      <th>2</th>\n",
       "      <td>1.000000</td>\n",
       "      <td>1.000000</td>\n",
       "      <td>1.000000</td>\n",
       "      <td>-0.189945</td>\n",
       "      <td>-0.232439</td>\n",
       "      <td>-0.215623</td>\n",
       "      <td>-0.228322</td>\n",
       "      <td>-0.047643</td>\n",
       "      <td>-0.061022</td>\n",
       "      <td>0.050977</td>\n",
       "    </tr>\n",
       "    <tr>\n",
       "      <th>3</th>\n",
       "      <td>-0.189945</td>\n",
       "      <td>-0.189945</td>\n",
       "      <td>-0.189945</td>\n",
       "      <td>1.000000</td>\n",
       "      <td>0.974279</td>\n",
       "      <td>0.964344</td>\n",
       "      <td>0.969540</td>\n",
       "      <td>0.058516</td>\n",
       "      <td>0.108294</td>\n",
       "      <td>-0.010416</td>\n",
       "    </tr>\n",
       "    <tr>\n",
       "      <th>4</th>\n",
       "      <td>-0.232439</td>\n",
       "      <td>-0.232439</td>\n",
       "      <td>-0.232439</td>\n",
       "      <td>0.974279</td>\n",
       "      <td>1.000000</td>\n",
       "      <td>0.982785</td>\n",
       "      <td>0.982227</td>\n",
       "      <td>0.080342</td>\n",
       "      <td>0.126004</td>\n",
       "      <td>-0.012399</td>\n",
       "    </tr>\n",
       "    <tr>\n",
       "      <th>5</th>\n",
       "      <td>-0.215623</td>\n",
       "      <td>-0.215623</td>\n",
       "      <td>-0.215623</td>\n",
       "      <td>0.964344</td>\n",
       "      <td>0.982785</td>\n",
       "      <td>1.000000</td>\n",
       "      <td>0.976308</td>\n",
       "      <td>0.079547</td>\n",
       "      <td>0.123368</td>\n",
       "      <td>-0.021029</td>\n",
       "    </tr>\n",
       "    <tr>\n",
       "      <th>6</th>\n",
       "      <td>-0.228322</td>\n",
       "      <td>-0.228322</td>\n",
       "      <td>-0.228322</td>\n",
       "      <td>0.969540</td>\n",
       "      <td>0.982227</td>\n",
       "      <td>0.976308</td>\n",
       "      <td>1.000000</td>\n",
       "      <td>0.074004</td>\n",
       "      <td>0.112241</td>\n",
       "      <td>-0.022023</td>\n",
       "    </tr>\n",
       "    <tr>\n",
       "      <th>7</th>\n",
       "      <td>-0.047643</td>\n",
       "      <td>-0.047643</td>\n",
       "      <td>-0.047643</td>\n",
       "      <td>0.058516</td>\n",
       "      <td>0.080342</td>\n",
       "      <td>0.079547</td>\n",
       "      <td>0.074004</td>\n",
       "      <td>1.000000</td>\n",
       "      <td>-0.133182</td>\n",
       "      <td>0.052151</td>\n",
       "    </tr>\n",
       "    <tr>\n",
       "      <th>8</th>\n",
       "      <td>-0.061022</td>\n",
       "      <td>-0.061022</td>\n",
       "      <td>-0.061022</td>\n",
       "      <td>0.108294</td>\n",
       "      <td>0.126004</td>\n",
       "      <td>0.123368</td>\n",
       "      <td>0.112241</td>\n",
       "      <td>-0.133182</td>\n",
       "      <td>1.000000</td>\n",
       "      <td>0.006923</td>\n",
       "    </tr>\n",
       "    <tr>\n",
       "      <th>9</th>\n",
       "      <td>0.050977</td>\n",
       "      <td>0.050977</td>\n",
       "      <td>0.050977</td>\n",
       "      <td>-0.010416</td>\n",
       "      <td>-0.012399</td>\n",
       "      <td>-0.021029</td>\n",
       "      <td>-0.022023</td>\n",
       "      <td>0.052151</td>\n",
       "      <td>0.006923</td>\n",
       "      <td>1.000000</td>\n",
       "    </tr>\n",
       "  </tbody>\n",
       "</table>\n",
       "</div>"
      ],
      "text/plain": [
       "          0         1         2         3         4         5         6  \\\n",
       "0  1.000000  1.000000  1.000000 -0.189945 -0.232439 -0.215623 -0.228322   \n",
       "1  1.000000  1.000000  1.000000 -0.189945 -0.232439 -0.215623 -0.228322   \n",
       "2  1.000000  1.000000  1.000000 -0.189945 -0.232439 -0.215623 -0.228322   \n",
       "3 -0.189945 -0.189945 -0.189945  1.000000  0.974279  0.964344  0.969540   \n",
       "4 -0.232439 -0.232439 -0.232439  0.974279  1.000000  0.982785  0.982227   \n",
       "5 -0.215623 -0.215623 -0.215623  0.964344  0.982785  1.000000  0.976308   \n",
       "6 -0.228322 -0.228322 -0.228322  0.969540  0.982227  0.976308  1.000000   \n",
       "7 -0.047643 -0.047643 -0.047643  0.058516  0.080342  0.079547  0.074004   \n",
       "8 -0.061022 -0.061022 -0.061022  0.108294  0.126004  0.123368  0.112241   \n",
       "9  0.050977  0.050977  0.050977 -0.010416 -0.012399 -0.021029 -0.022023   \n",
       "\n",
       "          7         8         9  \n",
       "0 -0.047643 -0.061022  0.050977  \n",
       "1 -0.047643 -0.061022  0.050977  \n",
       "2 -0.047643 -0.061022  0.050977  \n",
       "3  0.058516  0.108294 -0.010416  \n",
       "4  0.080342  0.126004 -0.012399  \n",
       "5  0.079547  0.123368 -0.021029  \n",
       "6  0.074004  0.112241 -0.022023  \n",
       "7  1.000000 -0.133182  0.052151  \n",
       "8 -0.133182  1.000000  0.006923  \n",
       "9  0.052151  0.006923  1.000000  "
      ]
     },
     "execution_count": 4,
     "metadata": {},
     "output_type": "execute_result"
    }
   ],
   "source": [
    "# Compute matrix of correlation coefficients\n",
    "corr_matrix = np.corrcoef(x.T)\n",
    "pd.DataFrame(corr_matrix)"
   ]
  },
  {
   "cell_type": "code",
   "execution_count": 5,
   "metadata": {},
   "outputs": [
    {
     "data": {
      "image/png": "[encoded data removed]",
      "text/plain": [
       "<matplotlib.figure.Figure at 0x1154a2a20>"
      ]
     },
     "metadata": {},
     "output_type": "display_data"
    }
   ],
   "source": [
    "# Display heat map \n",
    "fig, ax = plt.subplots(1, 1, figsize=(6, 6))\n",
    "\n",
    "ax.pcolor(corr_matrix)\n",
    "\n",
    "ax.set_title('Heatmap of correlation matrix')\n",
    "\n",
    "plt.show()"
   ]
  },
  {
   "cell_type": "markdown",
   "metadata": {},
   "source": [
    "#### How many and, which predictors would you choose, to perform the regression? \n",
    "\n",
    "\n",
    "Lets look what the best subset selection algorithm will have to say about that"
   ]
  },
  {
   "cell_type": "code",
   "execution_count": 78,
   "metadata": {},
   "outputs": [
    {
     "name": "stdout",
     "output_type": "stream",
     "text": [
      "0.291117773231\n",
      "0.477724702908\n",
      "0.498989602121\n",
      "0.544271602865\n",
      "0.54782957771\n",
      "0.564661882463\n",
      "0.56393795188\n",
      "0.559552422359\n",
      "0.559552422359\n",
      "0.559552422359\n",
      "Best subset by exhaustive search:\n",
      "[0, 3, 5, 7, 8, 9]\n"
     ]
    }
   ],
   "source": [
    "#from statsmodels.regression.linear_model import OLS\n",
    "\n",
    "### Best Subset Selection\n",
    "max_r2 = 0 # set some initial small value for max R^2 score\n",
    "best_subset = [] # best subset of predictors\n",
    "\n",
    "# Create all possible subsets of the set of 10 predictors\n",
    "predictor_set = set(range(10)) # predictor set = {0, 1, 2, 3, 4, 5, 6, 7, 8, 9}\n",
    "\n",
    "# Repeat for every possible size of subset\n",
    "for size_k in range(10): \n",
    "    # Create all possible subsets of size 'size', \n",
    "    # using the 'combination' function from the 'itertools' library\n",
    "    subsets_of_size_k = it.combinations(predictor_set, size_k + 1) \n",
    "\n",
    "    \n",
    "    max_r_squared = -1e10 # set some initial small value for max R^2 score\n",
    "    best_k_subset = [] # best subset of predictors of size k\n",
    "    \n",
    "     # Iterate over all subsets of our predictor set\n",
    "    for predictor_subset in subsets_of_size_k:    \n",
    "        #print(predictor_subset)\n",
    "        # Use only a subset of predictors in the training data\n",
    "        x_subset = x[:,predictor_subset]\n",
    "\n",
    "        # Fit and evaluate R^2\n",
    "        model = Lin_Reg()\n",
    "        results = model.fit(x_subset,y)\n",
    "        r_squared = model.score(x_subset,y)\n",
    "        #print(r_squared)\n",
    "        \n",
    "        # Update max R^2 and best predictor subset of size k\n",
    "        # If current predictor subset has a higher R^2 score than that of the best subset \n",
    "        # we've found so far, remember the current predictor subset as the best!\n",
    "        if(r_squared > max_r_squared): \n",
    "            max_r_squared = r_squared\n",
    "            best_k_subset = predictor_subset[:]\n",
    "                \n",
    "\n",
    "    # Use only the best subset of size k for the predictors\n",
    "    x_subset = x[:, best_k_subset]\n",
    "        \n",
    "    # Fit and evaluate R^2 of the best subset of size k.\n",
    "    model = Lin_Reg()\n",
    "    results = model.fit(x_subset,y)\n",
    "    r2= cross_validation.cross_val_score(model, x_subset, y, scoring='r2')\n",
    "    r2=r2.mean()\n",
    "    print(r2)\n",
    "    \n",
    "    # Update maximum r^2 and best predictor subset\n",
    "    # If current predictor has a higher R^2 score than that of the best subset \n",
    "    # we've found so far, remember the current predictor as the best!\n",
    "    if(r2 > max_r2): \n",
    "        max_r2 = r2\n",
    "        best_subset = best_k_subset[:]\n",
    "    \n",
    "print('Best subset by exhaustive search:')\n",
    "print(sorted(best_subset))"
   ]
  },
  {
   "cell_type": "markdown",
   "metadata": {},
   "source": [
    "Forward selection"
   ]
  },
  {
   "cell_type": "code",
   "execution_count": 79,
   "metadata": {},
   "outputs": [
    {
     "name": "stdout",
     "output_type": "stream",
     "text": [
      "Step-wise forward subset selection:\n",
      "[0, 3, 5, 7, 8, 9]\n"
     ]
    }
   ],
   "source": [
    "### Step-wise Forward Selection\n",
    "d = x.shape[1] # total no. of predictors\n",
    "\n",
    "# Keep track of current set of chosen predictors, and the remaining set of predictors\n",
    "current_predictors = [] \n",
    "remaining_predictors = list(range(d))\n",
    "\n",
    "global_max_r2 = 0\n",
    "\n",
    "# Keep track of the best subset of predictors\n",
    "best_subset = [] \n",
    "\n",
    "# Iterate over all possible subset sizes, 0 predictors to d predictors\n",
    "for size in range(d):    \n",
    "    max_r_squared = -1e10 # set some initial small value for max R^2\n",
    "    best_predictor = -1 # set some throwaway initial number for the best predictor to add\n",
    "    max_r2=0   \n",
    "        \n",
    "    # Iterate over all remaining predictors to find best predictor to add\n",
    "    for i in remaining_predictors:\n",
    "        # Make copy of current set of predictors\n",
    "        temp = current_predictors[:]\n",
    "        # Add predictor 'i'\n",
    "        temp.append(i)\n",
    "                                    \n",
    "        # Use only a subset of predictors in the training data\n",
    "        x_subset = x[:, temp]\n",
    "        \n",
    "        # Fit and evaluate R^2\n",
    "        model = Lin_Reg()\n",
    "        results = model.fit(x_subset,y)\n",
    "        r_squared = model.score(x_subset,y)\n",
    "        \n",
    "        # Check if we get a higher R^2 value than than current max R^2, if so, update\n",
    "        if(r_squared > max_r_squared):\n",
    "            max_r_squared = r_squared\n",
    "            best_predictor = i\n",
    "            r2= cross_validation.cross_val_score(model, x_subset, y, scoring='r2')\n",
    "            r2=r2.mean()\n",
    "            r2_with_best_predictor = r2\n",
    "    \n",
    "    # Remove best predictor from remaining list, and add best predictor to current list\n",
    "    remaining_predictors.remove(best_predictor)\n",
    "    current_predictors.append(best_predictor)\n",
    "    \n",
    "    # Check if r^2 for with the predictor we just added is higher than \n",
    "    # the global maximum across all subset of predictors\n",
    "    if(r2_with_best_predictor > global_max_r2):\n",
    "        best_subset = current_predictors[:]\n",
    "        global_max_r2 = r2_with_best_predictor\n",
    "    \n",
    "print('Step-wise forward subset selection:')\n",
    "print(sorted(best_subset)) # add 1 as indices start from 0"
   ]
  },
  {
   "cell_type": "markdown",
   "metadata": {},
   "source": [
    "... and backward selection"
   ]
  },
  {
   "cell_type": "code",
   "execution_count": 84,
   "metadata": {},
   "outputs": [
    {
     "name": "stdout",
     "output_type": "stream",
     "text": [
      "Step-wise backward subset selection:\n",
      "[2, 3, 5, 7, 8, 9]\n"
     ]
    }
   ],
   "source": [
    "###  Step-wise Backward Selection\n",
    "d = x.shape[1] # total no. of predictors\n",
    "\n",
    "# Keep track of current set of chosen predictors\n",
    "current_predictors = list(range(d))\n",
    "\n",
    "# First, fit and evaluate cross-validated R^2 using all 'd' number of predictors\n",
    "model = Lin_Reg()\n",
    "results = model.fit(x,y)\n",
    "r2_all = cross_validation.cross_val_score(model, x, y, scoring='r2').mean()\n",
    "\n",
    "\n",
    "# Set the maximum R^2 score, initially, to the R^2 score using all 'd' predictors\n",
    "global_max_r2 = r2_all\n",
    "# Keep track of the best subset of predictors\n",
    "best_subset = [] \n",
    "\n",
    "# Iterate over all possible subset sizes, d predictors to 1 predictor\n",
    "for size in range(d - 1, 1, -1): # stop before 0 to avoid choosing an empty set of predictors\n",
    "    max_r_squared = -1e10 # set some initial small value for max R^2\n",
    "    worst_predictor = -1 # set some throwaway initial number for the worst predictor to remove\n",
    "    r2_without_worst_predictor = -0.2 # set some initial small value for max R^2 score  \n",
    "        \n",
    "    # Iterate over current set of predictors (for potential elimination)\n",
    "    for i in current_predictors:\n",
    "        # Create copy of current predictors, and remove predictor 'i'\n",
    "        temp = current_predictors[:]\n",
    "        temp.remove(i)\n",
    "                                    \n",
    "        # Use only a subset of predictors in the training data\n",
    "        x_subset = x[:, temp]\n",
    "        \n",
    "        # Fit and evaluate R^2\n",
    "        model = Lin_Reg()\n",
    "        results = model.fit(x_subset,y)\n",
    "        r_squared = model.score(x_subset,y)\n",
    "        \n",
    "        # Check if we get a higher R^2 value than than current max R^2, if so, update\n",
    "        if(r_squared > max_r_squared):\n",
    "            max_r_squared = r_squared\n",
    "            worst_predictor = i\n",
    "            r2= cross_validation.cross_val_score(model, x_subset, y, scoring='r2')\n",
    "            r2=r2.mean()\n",
    "            r2_without_worst_predictor = r2\n",
    "          \n",
    "    # Remove worst predictor from current set of predictors\n",
    "    current_predictors.remove(worst_predictor)\n",
    "    \n",
    "    # Check if R^2 for the predictor we just removed is higher than \n",
    "    # the global maximum across all subset of predictors\n",
    "    if(r2_without_worst_predictor > global_max_r2):\n",
    "        best_subset = current_predictors[:]\n",
    "        global_max_r2 = r2_without_worst_predictor\n",
    "    \n",
    "print('Step-wise backward subset selection:')\n",
    "print(sorted(best_subset))"
   ]
  },
  {
   "cell_type": "markdown",
   "metadata": {},
   "source": [
    "Lets look at what Lasso and ridge will do...\n",
    "\n",
    "#### Play with the alpha parameter - this is lambda from the lecture. See what happens."
   ]
  },
  {
   "cell_type": "code",
   "execution_count": 8,
   "metadata": {},
   "outputs": [
    {
     "name": "stdout",
     "output_type": "stream",
     "text": [
      "Lasso:\n",
      "Coefficients: [ 0.02717417  0.          0.         -0.         -0.02532806 -0.         -0.\n",
      "  0.04397321 -0.40612185 -0.22260474]\n",
      "Predictors with non-zero coefficients: [0, 4, 7, 8, 9]\n"
     ]
    }
   ],
   "source": [
    "# Lasso regression\n",
    "reg = Lasso_Reg(alpha = 0.01)\n",
    "reg.fit(x, y)\n",
    "coefficients = reg.coef_\n",
    "\n",
    "print('Lasso:')\n",
    "print('Coefficients:', coefficients)\n",
    "print('Predictors with non-zero coefficients:', [i for i, item in enumerate(coefficients) if abs(item) > 0])"
   ]
  },
  {
   "cell_type": "code",
   "execution_count": 9,
   "metadata": {},
   "outputs": [
    {
     "name": "stdout",
     "output_type": "stream",
     "text": [
      "Ridge:\n",
      "Coefficients: [ 0.04353543  0.04353543  0.04353543  0.55217415 -0.19706852 -0.61421737\n",
      "  0.30484213  0.18742866 -0.50083242 -0.35908145]\n",
      "Predictors with non-zero coefficients: [0, 1, 2, 3, 4, 5, 6, 7, 8, 9]\n"
     ]
    }
   ],
   "source": [
    "# Ridge regression: Fit and evaluate \n",
    "reg = Ridge_Reg(alpha = 0.01)\n",
    "x[:,1] = x[:,0]\n",
    "x[:,2] = x[:,0]\n",
    "reg.fit(x, y)\n",
    "coefficients = reg.coef_\n",
    "\n",
    "print('Ridge:')\n",
    "print('Coefficients:', coefficients)\n",
    "print('Predictors with non-zero coefficients:', [i for i, item in enumerate(coefficients) if abs(item) > 0])"
   ]
  },
  {
   "cell_type": "markdown",
   "metadata": {},
   "source": [
    "Now, we will look at a different data set:"
   ]
  },
  {
   "cell_type": "code",
   "execution_count": 10,
   "metadata": {},
   "outputs": [
    {
     "data": {
      "text/html": [
       "<div>\n",
       "<style>\n",
       "    .dataframe thead tr:only-child th {\n",
       "        text-align: right;\n",
       "    }\n",
       "\n",
       "    .dataframe thead th {\n",
       "        text-align: left;\n",
       "    }\n",
       "\n",
       "    .dataframe tbody tr th {\n",
       "        vertical-align: top;\n",
       "    }\n",
       "</style>\n",
       "<table border=\"1\" class=\"dataframe\">\n",
       "  <thead>\n",
       "    <tr style=\"text-align: right;\">\n",
       "      <th></th>\n",
       "      <th>horsepower</th>\n",
       "      <th>highway-mpg</th>\n",
       "      <th>symboling</th>\n",
       "      <th>normalized-losses</th>\n",
       "      <th>make</th>\n",
       "      <th>fuel-type</th>\n",
       "      <th>aspiration</th>\n",
       "      <th>num-of-doors</th>\n",
       "      <th>body-style</th>\n",
       "      <th>drive-wheels</th>\n",
       "      <th>...</th>\n",
       "      <th>engine-type</th>\n",
       "      <th>num-of-cylinders</th>\n",
       "      <th>engine-size</th>\n",
       "      <th>fuel-system</th>\n",
       "      <th>bore</th>\n",
       "      <th>stroke</th>\n",
       "      <th>compression-ratio</th>\n",
       "      <th>peak-rpm</th>\n",
       "      <th>city-mpg</th>\n",
       "      <th>price</th>\n",
       "    </tr>\n",
       "  </thead>\n",
       "  <tbody>\n",
       "    <tr>\n",
       "      <th>0</th>\n",
       "      <td>95.0</td>\n",
       "      <td>24.0</td>\n",
       "      <td>0.0</td>\n",
       "      <td>120.232558</td>\n",
       "      <td>peugot</td>\n",
       "      <td>gas</td>\n",
       "      <td>std</td>\n",
       "      <td>four</td>\n",
       "      <td>wagon</td>\n",
       "      <td>rwd</td>\n",
       "      <td>...</td>\n",
       "      <td>l</td>\n",
       "      <td>four</td>\n",
       "      <td>120.0</td>\n",
       "      <td>mpfi</td>\n",
       "      <td>3.46</td>\n",
       "      <td>2.19</td>\n",
       "      <td>8.4</td>\n",
       "      <td>5000.0</td>\n",
       "      <td>19.0</td>\n",
       "      <td>16695.0</td>\n",
       "    </tr>\n",
       "    <tr>\n",
       "      <th>1</th>\n",
       "      <td>116.0</td>\n",
       "      <td>30.0</td>\n",
       "      <td>2.0</td>\n",
       "      <td>134.000000</td>\n",
       "      <td>toyota</td>\n",
       "      <td>gas</td>\n",
       "      <td>std</td>\n",
       "      <td>two</td>\n",
       "      <td>hardtop</td>\n",
       "      <td>rwd</td>\n",
       "      <td>...</td>\n",
       "      <td>ohc</td>\n",
       "      <td>four</td>\n",
       "      <td>146.0</td>\n",
       "      <td>mpfi</td>\n",
       "      <td>3.62</td>\n",
       "      <td>3.50</td>\n",
       "      <td>9.3</td>\n",
       "      <td>4800.0</td>\n",
       "      <td>24.0</td>\n",
       "      <td>11199.0</td>\n",
       "    </tr>\n",
       "    <tr>\n",
       "      <th>2</th>\n",
       "      <td>121.0</td>\n",
       "      <td>28.0</td>\n",
       "      <td>0.0</td>\n",
       "      <td>188.000000</td>\n",
       "      <td>bmw</td>\n",
       "      <td>gas</td>\n",
       "      <td>std</td>\n",
       "      <td>two</td>\n",
       "      <td>sedan</td>\n",
       "      <td>rwd</td>\n",
       "      <td>...</td>\n",
       "      <td>ohc</td>\n",
       "      <td>six</td>\n",
       "      <td>164.0</td>\n",
       "      <td>mpfi</td>\n",
       "      <td>3.31</td>\n",
       "      <td>3.19</td>\n",
       "      <td>9.0</td>\n",
       "      <td>4250.0</td>\n",
       "      <td>21.0</td>\n",
       "      <td>20970.0</td>\n",
       "    </tr>\n",
       "    <tr>\n",
       "      <th>3</th>\n",
       "      <td>184.0</td>\n",
       "      <td>16.0</td>\n",
       "      <td>0.0</td>\n",
       "      <td>120.232558</td>\n",
       "      <td>mercedes-benz</td>\n",
       "      <td>gas</td>\n",
       "      <td>std</td>\n",
       "      <td>four</td>\n",
       "      <td>sedan</td>\n",
       "      <td>rwd</td>\n",
       "      <td>...</td>\n",
       "      <td>ohcv</td>\n",
       "      <td>eight</td>\n",
       "      <td>308.0</td>\n",
       "      <td>mpfi</td>\n",
       "      <td>3.80</td>\n",
       "      <td>3.35</td>\n",
       "      <td>8.0</td>\n",
       "      <td>4500.0</td>\n",
       "      <td>14.0</td>\n",
       "      <td>40960.0</td>\n",
       "    </tr>\n",
       "    <tr>\n",
       "      <th>4</th>\n",
       "      <td>111.0</td>\n",
       "      <td>29.0</td>\n",
       "      <td>0.0</td>\n",
       "      <td>102.000000</td>\n",
       "      <td>subaru</td>\n",
       "      <td>gas</td>\n",
       "      <td>turbo</td>\n",
       "      <td>four</td>\n",
       "      <td>sedan</td>\n",
       "      <td>4wd</td>\n",
       "      <td>...</td>\n",
       "      <td>ohcf</td>\n",
       "      <td>four</td>\n",
       "      <td>108.0</td>\n",
       "      <td>mpfi</td>\n",
       "      <td>3.62</td>\n",
       "      <td>2.64</td>\n",
       "      <td>7.7</td>\n",
       "      <td>4800.0</td>\n",
       "      <td>24.0</td>\n",
       "      <td>11259.0</td>\n",
       "    </tr>\n",
       "  </tbody>\n",
       "</table>\n",
       "<p>5 rows × 26 columns</p>\n",
       "</div>"
      ],
      "text/plain": [
       "   horsepower  highway-mpg  symboling  normalized-losses           make  \\\n",
       "0        95.0         24.0        0.0         120.232558         peugot   \n",
       "1       116.0         30.0        2.0         134.000000         toyota   \n",
       "2       121.0         28.0        0.0         188.000000            bmw   \n",
       "3       184.0         16.0        0.0         120.232558  mercedes-benz   \n",
       "4       111.0         29.0        0.0         102.000000         subaru   \n",
       "\n",
       "  fuel-type aspiration num-of-doors body-style drive-wheels   ...     \\\n",
       "0       gas        std         four      wagon          rwd   ...      \n",
       "1       gas        std          two    hardtop          rwd   ...      \n",
       "2       gas        std          two      sedan          rwd   ...      \n",
       "3       gas        std         four      sedan          rwd   ...      \n",
       "4       gas      turbo         four      sedan          4wd   ...      \n",
       "\n",
       "  engine-type  num-of-cylinders  engine-size  fuel-system  bore  stroke  \\\n",
       "0           l              four        120.0         mpfi  3.46    2.19   \n",
       "1         ohc              four        146.0         mpfi  3.62    3.50   \n",
       "2         ohc               six        164.0         mpfi  3.31    3.19   \n",
       "3        ohcv             eight        308.0         mpfi  3.80    3.35   \n",
       "4        ohcf              four        108.0         mpfi  3.62    2.64   \n",
       "\n",
       "  compression-ratio peak-rpm  city-mpg    price  \n",
       "0               8.4   5000.0      19.0  16695.0  \n",
       "1               9.3   4800.0      24.0  11199.0  \n",
       "2               9.0   4250.0      21.0  20970.0  \n",
       "3               8.0   4500.0      14.0  40960.0  \n",
       "4               7.7   4800.0      24.0  11259.0  \n",
       "\n",
       "[5 rows x 26 columns]"
      ]
     },
     "execution_count": 10,
     "metadata": {},
     "output_type": "execute_result"
    }
   ],
   "source": [
    "## Load data\n",
    "data = pd.read_csv('datasets/dataset_2.txt')\n",
    "data.head()"
   ]
  },
  {
   "cell_type": "code",
   "execution_count": 11,
   "metadata": {},
   "outputs": [
    {
     "name": "stdout",
     "output_type": "stream",
     "text": [
      "(205, 69)\n"
     ]
    }
   ],
   "source": [
    "# Split predictors and response\n",
    "y = data.iloc[:, -1]\n",
    "x = data.iloc[:, :-1]\n",
    "\n",
    "## Transformations\n",
    "# Transform symboling into categorical variable\n",
    "x['symboling'] = x['symboling'].astype(object)\n",
    "\n",
    "# Some of the predictors are categorical. Lets produce some dummy variables\n",
    "categorical_bolean = (x.dtypes == \"object\").values\n",
    "x_numeric = x.loc[:, ~categorical_bolean]\n",
    "x_categorical = x.loc[:, categorical_bolean]\n",
    "x_dummies = pd.get_dummies(x_categorical)\n",
    "\n",
    "## Scale the numerical x variables\n",
    "x_numeric = x_numeric / x_numeric.std(axis=0)\n",
    "\n",
    "## Bind data together\n",
    "x = pd.concat([x_numeric, x_dummies], axis=1)\n",
    "print(x.shape)"
   ]
  },
  {
   "cell_type": "code",
   "execution_count": 12,
   "metadata": {
    "collapsed": true
   },
   "outputs": [],
   "source": [
    "## Split the dataset\n",
    "np.random.seed(856) # Set seed\n",
    "x_train, x_test = train_test_split(x, test_size = 0.25)\n",
    "\n",
    "## Split the variables\n",
    "y_train = y.iloc[x_train.index.values]\n",
    "y_test = y.iloc[x_test.index.values]\n",
    "x_train = x.iloc[x_train.index.values, :]\n",
    "x_test = x.iloc[x_test.index.values, :]\n",
    "\n",
    "## Transform to numpy \n",
    "y_train = y_train.values\n",
    "y_test = y_test.values\n",
    "x_train = x_train.values\n",
    "x_test = x_test.values"
   ]
  },
  {
   "cell_type": "code",
   "execution_count": 13,
   "metadata": {},
   "outputs": [
    {
     "name": "stdout",
     "output_type": "stream",
     "text": [
      "Plain Regression: R^2 score on training set 0.990955195397\n",
      "Plain Regression: R^2 score on test set 0.958059163439\n"
     ]
    }
   ],
   "source": [
    "# First, let's do plain OLS\n",
    "reg = Lin_Reg()\n",
    "reg.fit(x_train, y_train)\n",
    "\n",
    "train_r_squared_plain = reg.score(x_train, y_train)\n",
    "test_r_squared_plain = reg.score(x_test, y_test)\n",
    "\n",
    "print('Plain Regression: R^2 score on training set', train_r_squared_plain)\n",
    "print('Plain Regression: R^2 score on test set', test_r_squared_plain)"
   ]
  },
  {
   "cell_type": "markdown",
   "metadata": {},
   "source": [
    "The linear regression overfits a bit. Now, we will look how the Ridge regression will deal with that."
   ]
  },
  {
   "cell_type": "code",
   "execution_count": 14,
   "metadata": {},
   "outputs": [
    {
     "name": "stdout",
     "output_type": "stream",
     "text": [
      "Ridge:\n",
      "Coefficients: [  992.92148619   553.97771546   444.35687821  -828.94054753  -525.36834772\n",
      "  2211.93526343   459.23600141  1160.12392818  4443.04676286 -1125.6272756\n",
      " -1718.78978862   315.37876754   344.79954543  -758.59928852  -924.65800278\n",
      "   -36.75443242   457.93905479  1014.82987063  -630.91902486   119.56253464\n",
      "   395.33569594  2884.31772629    77.27639028 -1644.3110965     13.51645961\n",
      "  -704.2174629   3183.18495578 -1863.20872571 -1458.68909567  -836.10191045\n",
      "  -667.66261737 -1441.07097977  2494.76231488   567.89881667  1449.1084432\n",
      " -2179.99901015  -893.98887089  -364.09680086   987.94576763    71.98632035\n",
      "   -71.98632035  -905.22298642   905.22298642   181.93047182  -181.93047182\n",
      "  2266.97626872   459.87867544  -736.78619848  -871.37469    -1118.69405569\n",
      "    37.65252076    17.84309103   -55.49561178 -2998.30613842  2998.30613842\n",
      "    77.68045447  -667.66261737  1229.61288637   818.30712827 -1457.93785174\n",
      "  2794.18813447  -659.19799568  -128.44268015 -2006.54745864    13.51645961\n",
      "   494.53946992    71.98632035    79.19678992  -659.2390398 ]\n",
      "Selected predictors: [0, 1, 2, 3, 4, 5, 6, 7, 8, 9, 10, 11, 12, 13, 14, 15, 16, 17, 18, 19, 20, 21, 22, 23, 24, 25, 26, 27, 28, 29, 30, 31, 32, 33, 34, 35, 36, 37, 38, 39, 40, 41, 42, 43, 44, 45, 46, 47, 48, 49, 50, 51, 52, 53, 54, 55, 56, 57, 58, 59, 60, 61, 62, 63, 64, 65, 66, 67, 68]\n",
      "Ridge Regression: R^2 score on training set 0.981590182809\n",
      "Ridge Regression: R^2 score on test set 0.97329430963\n"
     ]
    }
   ],
   "source": [
    "# Ridge regression: Fit and evaluate \n",
    "reg = Ridge_Reg(alpha = 1.0)\n",
    "reg.fit(x_train, y_train)\n",
    "coefficients = reg.coef_\n",
    "\n",
    "predictors = [i for i, item in enumerate(coefficients) if abs(item) > 0]\n",
    "\n",
    "print('Ridge:')\n",
    "print('Coefficients:', coefficients)\n",
    "print('Selected predictors:',predictors)\n",
    "print('Ridge Regression: R^2 score on training set', reg.score(x_train,y_train))\n",
    "print('Ridge Regression: R^2 score on test set', reg.score(x_test,y_test))"
   ]
  },
  {
   "cell_type": "code",
   "execution_count": 15,
   "metadata": {
    "collapsed": true
   },
   "outputs": [],
   "source": [
    "# Run for different values of lambda \n",
    "lambda_min = -7\n",
    "lambda_max = 7\n",
    "\n",
    "num_lambdas = 15\n",
    "num_predictors = x.shape[1]\n",
    "\n",
    "lambdas= np.linspace(lambda_min,lambda_max, num_lambdas)\n",
    "\n",
    "train_r_squared = np.zeros(num_lambdas)\n",
    "test_r_squared = np.zeros(num_lambdas)\n",
    "\n",
    "coeff_a = np.zeros((num_lambdas, num_predictors))"
   ]
  },
  {
   "cell_type": "code",
   "execution_count": 16,
   "metadata": {
    "collapsed": true
   },
   "outputs": [],
   "source": [
    "for ind, i in enumerate(lambdas):    \n",
    "    # Fit ridge regression on train set\n",
    "    reg = Ridge_Reg(alpha = 10**i)\n",
    "    reg.fit(x_train, y_train)\n",
    "       \n",
    "    coeff_a[ind,:] = reg.coef_\n",
    "    # Evaluate train & test performance\n",
    "    train_r_squared[ind] = reg.score(x_train, y_train)\n",
    "    test_r_squared[ind] = reg.score(x_test, y_test)"
   ]
  },
  {
   "cell_type": "code",
   "execution_count": 17,
   "metadata": {},
   "outputs": [
    {
     "data": {
      "image/png": "[encoded data removed]",
      "text/plain": [
       "<matplotlib.figure.Figure at 0x11918ffd0>"
      ]
     },
     "metadata": {},
     "output_type": "display_data"
    }
   ],
   "source": [
    "# Plotting\n",
    "plt.figure(figsize=(18, 8))\n",
    "plt.plot(lambdas, train_r_squared, 'bo-', label=r'$R^2$ Training set', color=\"darkblue\", alpha=0.6, linewidth=3)\n",
    "plt.plot(lambdas, test_r_squared, 'bo-', label=r'$R^2$ Test set', color=\"darkred\", alpha=0.6, linewidth=3)\n",
    "plt.xlabel('Lamda value'); plt.ylabel(r'$R^2$')\n",
    "plt.xlim(lambda_min, lambda_max)\n",
    "plt.title(r'Evaluate ridge regression $R^2$ with different lamdas')\n",
    "plt.legend(loc='best')\n",
    "plt.grid()"
   ]
  },
  {
   "cell_type": "markdown",
   "metadata": {},
   "source": [
    "#### What is the lambda value for which the R^2 is highest? What does this mean?\n",
    "\n",
    "\n",
    "Lets do the same with cross-validation"
   ]
  },
  {
   "cell_type": "code",
   "execution_count": 18,
   "metadata": {
    "collapsed": true
   },
   "outputs": [],
   "source": [
    "# Run for different values of lambda \n",
    "lambda_min = -7\n",
    "lambda_max = 7\n",
    "\n",
    "num_lambdas = 15\n",
    "num_predictors = x.shape[1]\n",
    "\n",
    "lambdas= np.linspace(lambda_min,lambda_max, num_lambdas)\n",
    "\n",
    "train_r_squared = np.zeros(num_lambdas)\n",
    "test_r_squared = np.zeros(num_lambdas)"
   ]
  },
  {
   "cell_type": "code",
   "execution_count": 19,
   "metadata": {
    "collapsed": true
   },
   "outputs": [],
   "source": [
    "kfold = KFold(n=len(x), n_folds=5, random_state=123)\n",
    "\n",
    "for ind, i in enumerate(lambdas):    \n",
    "    # Fit ridge regression on train set\n",
    "    reg = Ridge_Reg(alpha = 10**i)\n",
    "    reg.fit(x_train, y_train)\n",
    "    results = cross_val_score(reg, x, y, cv=kfold, scoring=\"r2\")\n",
    "   \n",
    "    # Evaluate train & test performance\n",
    "    train_r_squared[ind] = results.mean()\n",
    "    test_r_squared[ind] = reg.score(x_test, y_test)"
   ]
  },
  {
   "cell_type": "code",
   "execution_count": 20,
   "metadata": {},
   "outputs": [
    {
     "data": {
      "image/png": "[encoded data removed]",
      "text/plain": [
       "<matplotlib.figure.Figure at 0x11afaa978>"
      ]
     },
     "metadata": {},
     "output_type": "display_data"
    }
   ],
   "source": [
    "# Plotting\n",
    "plt.figure(figsize=(18, 8))\n",
    "plt.plot(lambdas,train_r_squared, 'bo-', label=r'$R^2$ Training set', color=\"darkblue\", alpha=0.6, linewidth=3)\n",
    "plt.plot(lambdas, test_r_squared, 'bo-', label=r'$R^2$ Test set', color=\"darkred\", alpha=0.6, linewidth=3)\n",
    "plt.xlabel('Lamda value'); plt.ylabel(r'$R^2$')\n",
    "plt.xlim(lambda_min, lambda_max)\n",
    "plt.title(r'Evaluate 5-fold cv with different lamdas')\n",
    "plt.legend(loc='best')\n",
    "plt.grid()"
   ]
  },
  {
   "cell_type": "code",
   "execution_count": null,
   "metadata": {
    "collapsed": true
   },
   "outputs": [],
   "source": []
  },
  {
   "cell_type": "markdown",
   "metadata": {},
   "source": [
    "## Principal Component Analysis\n",
    "\n",
    "\n",
    "Principal Component Analysis (PCA) is a simple yet popular and useful linear transformation technique that is used in numerous applications, such as stock market predictions, the  analysis of gene expression data, and many more. In this tutorial, we will see that PCA is not just a \"black box\", and we are going to unravel its internals in 3 basic steps.\n",
    "\n",
    "the notebook is a slightly modified version from https://sebastianraschka.com/notebooks/ml-notebooks.html"
   ]
  },
  {
   "cell_type": "markdown",
   "metadata": {},
   "source": [
    "### Introduxtion\n",
    "\n",
    "The sheer size of data in the modern age is not only a challenge for computer hardware but also a main bottleneck for the performance of many machine learning algorithms. The main goal of a PCA analysis is to identify patterns in data; PCA aims to detect the correlation between variables. If a strong correlation between variables exists, the attempt to reduce the dimensionality only makes sense. In a nutshell, this is what PCA is all about: Finding the directions of maximum variance in high-dimensional data and project it onto a smaller dimensional subspace while retaining most of the information.\n",
    "\n",
    "\n",
    "Often, the desired goal is to reduce the dimensions of a $d$-dimensional dataset by projecting it onto a $(k)$-dimensional subspace (where $k\\;<\\;d$) in order to increase the computational efficiency while retaining most of the information. An important question is \"what is the size of $k$ that represents the data 'well'?\"\n",
    "\n",
    "Later, we will compute eigenvectors (the principal components) of a dataset and collect them in a projection matrix. Each of those eigenvectors is associated with an eigenvalue which can be interpreted as the \"length\" or \"magnitude\" of the corresponding eigenvector. If some eigenvalues have a significantly larger magnitude than others that the reduction of the dataset via PCA onto a smaller dimensional subspace by dropping the \"less informative\" eigenpairs is reasonable.\n",
    "\n",
    "\n",
    "#### PCS approach\n",
    "\n",
    "-  Standardize the data.\n",
    "-  Obtain the Eigenvectors and Eigenvalues from the covariance matrix or correlation matrix, or perform Singular Vector Decomposition.\n",
    "-  Sort eigenvalues in descending order and choose the $k$ eigenvectors that correspond to the $k$ largest eigenvalues where $k$ is the number of dimensions of the new feature subspace ($k \\le d$)/.\n",
    "-  Construct the projection matrix $\\mathbf{W}$ from the selected $k$ eigenvectors.\n",
    "-  Transform the original dataset $\\mathbf{X}$ via $\\mathbf{W}$ to obtain a $k$-dimensional feature subspace $\\mathbf{Y}$.\n",
    "\n",
    "\n",
    "#### We will work with the famous Iris dataset\n",
    "\n",
    "For the following tutorial, we will be working with the famous \"Iris\" dataset that has been deposited on the UCI machine learning repository   \n",
    "([https://archive.ics.uci.edu/ml/datasets/Iris](https://archive.ics.uci.edu/ml/datasets/Iris)).\n",
    "\n",
    "The iris dataset contains measurements for 150 iris flowers from three different species.\n",
    "\n",
    "The three classes in the Iris dataset are:\n",
    "\n",
    "1. Iris-setosa (n=50)\n",
    "2. Iris-versicolor (n=50)\n",
    "3. Iris-virginica (n=50)\n",
    "\n",
    "And the four features of in Iris dataset are:\n",
    "\n",
    "1. sepal length in cm\n",
    "2. sepal width in cm\n",
    "3. petal length in cm\n",
    "4. petal width in cm\n",
    "\n",
    "See an Iris here http://5047-presscdn.pagely.netdna-cdn.com/wp-content/uploads/2015/04/iris_petal_sepal.png\n"
   ]
  },
  {
   "cell_type": "code",
   "execution_count": 21,
   "metadata": {},
   "outputs": [
    {
     "data": {
      "text/html": [
       "<div>\n",
       "<style>\n",
       "    .dataframe thead tr:only-child th {\n",
       "        text-align: right;\n",
       "    }\n",
       "\n",
       "    .dataframe thead th {\n",
       "        text-align: left;\n",
       "    }\n",
       "\n",
       "    .dataframe tbody tr th {\n",
       "        vertical-align: top;\n",
       "    }\n",
       "</style>\n",
       "<table border=\"1\" class=\"dataframe\">\n",
       "  <thead>\n",
       "    <tr style=\"text-align: right;\">\n",
       "      <th></th>\n",
       "      <th>sepal_len</th>\n",
       "      <th>sepal_wid</th>\n",
       "      <th>petal_len</th>\n",
       "      <th>petal_wid</th>\n",
       "      <th>class</th>\n",
       "    </tr>\n",
       "  </thead>\n",
       "  <tbody>\n",
       "    <tr>\n",
       "      <th>145</th>\n",
       "      <td>6.7</td>\n",
       "      <td>3.0</td>\n",
       "      <td>5.2</td>\n",
       "      <td>2.3</td>\n",
       "      <td>Iris-virginica</td>\n",
       "    </tr>\n",
       "    <tr>\n",
       "      <th>146</th>\n",
       "      <td>6.3</td>\n",
       "      <td>2.5</td>\n",
       "      <td>5.0</td>\n",
       "      <td>1.9</td>\n",
       "      <td>Iris-virginica</td>\n",
       "    </tr>\n",
       "    <tr>\n",
       "      <th>147</th>\n",
       "      <td>6.5</td>\n",
       "      <td>3.0</td>\n",
       "      <td>5.2</td>\n",
       "      <td>2.0</td>\n",
       "      <td>Iris-virginica</td>\n",
       "    </tr>\n",
       "    <tr>\n",
       "      <th>148</th>\n",
       "      <td>6.2</td>\n",
       "      <td>3.4</td>\n",
       "      <td>5.4</td>\n",
       "      <td>2.3</td>\n",
       "      <td>Iris-virginica</td>\n",
       "    </tr>\n",
       "    <tr>\n",
       "      <th>149</th>\n",
       "      <td>5.9</td>\n",
       "      <td>3.0</td>\n",
       "      <td>5.1</td>\n",
       "      <td>1.8</td>\n",
       "      <td>Iris-virginica</td>\n",
       "    </tr>\n",
       "  </tbody>\n",
       "</table>\n",
       "</div>"
      ],
      "text/plain": [
       "     sepal_len  sepal_wid  petal_len  petal_wid           class\n",
       "145        6.7        3.0        5.2        2.3  Iris-virginica\n",
       "146        6.3        2.5        5.0        1.9  Iris-virginica\n",
       "147        6.5        3.0        5.2        2.0  Iris-virginica\n",
       "148        6.2        3.4        5.4        2.3  Iris-virginica\n",
       "149        5.9        3.0        5.1        1.8  Iris-virginica"
      ]
     },
     "execution_count": 21,
     "metadata": {},
     "output_type": "execute_result"
    }
   ],
   "source": [
    "df = pd.read_csv(\n",
    "    filepath_or_buffer='https://archive.ics.uci.edu/ml/machine-learning-databases/iris/iris.data', \n",
    "    header=None, \n",
    "    sep=',')\n",
    "\n",
    "df.columns=['sepal_len', 'sepal_wid', 'petal_len', 'petal_wid', 'class']\n",
    "df.dropna(how=\"all\", inplace=True) # drops the empty line at file-end\n",
    "\n",
    "df.tail()"
   ]
  },
  {
   "cell_type": "code",
   "execution_count": 22,
   "metadata": {
    "collapsed": true
   },
   "outputs": [],
   "source": [
    "# split data table into data X and class labels y\n",
    "\n",
    "X = df.ix[:,0:4].values\n",
    "y = df.ix[:,4].values"
   ]
  },
  {
   "cell_type": "markdown",
   "metadata": {},
   "source": [
    "Our iris dataset is now stored in form of a  $150 \\times 4$ matrix where the columns are the different features, and every row represents a separate flower sample.\n",
    "Each sample row $\\mathbf{x}$ can be pictured as a 4-dimensional vector   \n",
    "\n",
    "\n",
    "$\\mathbf{x^T} = \\begin{pmatrix} x_1 \\\\ x_2 \\\\ x_3 \\\\ x_4 \\end{pmatrix} \n",
    "= \\begin{pmatrix} \\text{sepal length} \\\\ \\text{sepal width} \\\\\\text{petal length} \\\\ \\text{petal width} \\end{pmatrix}$"
   ]
  },
  {
   "cell_type": "markdown",
   "metadata": {},
   "source": [
    "To get a feeling for how the 3 different flower classes are distributes along the 4 different features, let us visualize them via histograms."
   ]
  },
  {
   "cell_type": "code",
   "execution_count": 23,
   "metadata": {},
   "outputs": [
    {
     "data": {
      "image/png": "[encoded data removed]",
      "text/plain": [
       "<matplotlib.figure.Figure at 0x11afcafd0>"
      ]
     },
     "metadata": {},
     "output_type": "display_data"
    }
   ],
   "source": [
    "import math\n",
    "\n",
    "label_dict = {1: 'Iris-Setosa',\n",
    "              2: 'Iris-Versicolor',\n",
    "              3: 'Iris-Virgnica'}\n",
    "\n",
    "feature_dict = {0: 'sepal length [cm]',\n",
    "                1: 'sepal width [cm]',\n",
    "                2: 'petal length [cm]',\n",
    "                3: 'petal width [cm]'}\n",
    "\n",
    "with plt.style.context('seaborn-whitegrid'):\n",
    "    plt.figure(figsize=(10, 8))\n",
    "    for cnt in range(4):\n",
    "        plt.subplot(2, 2, cnt+1)\n",
    "        for lab in ('Iris-setosa', 'Iris-versicolor', 'Iris-virginica'):\n",
    "            plt.hist(X[y==lab, cnt],\n",
    "                     label=lab,\n",
    "                     bins=10,\n",
    "                     alpha=0.3,)\n",
    "        plt.xlabel(feature_dict[cnt])\n",
    "    plt.legend(loc='upper right', fancybox=True, fontsize=8)\n",
    "\n",
    "    plt.tight_layout()\n",
    "    plt.show()"
   ]
  },
  {
   "cell_type": "markdown",
   "metadata": {},
   "source": [
    "#### Standarization\n",
    "\n",
    "Whether to standardize the data prior to a PCA on the covariance matrix depends on the measurement scales of the original features. Since PCA yields a feature subspace that maximizes the variance along the axes, it makes sense to standardize the data, especially, if it was measured on different scales. Although, all features in the Iris dataset were measured in centimeters, let us continue with the transformation of the data onto unit scale (mean=0 and variance=1), which is a requirement for the optimal performance of many machine learning algorithms."
   ]
  },
  {
   "cell_type": "code",
   "execution_count": null,
   "metadata": {
    "collapsed": true
   },
   "outputs": [],
   "source": [
    "from sklearn.preprocessing import StandardScaler\n",
    "X_std = StandardScaler().fit_transform(X)"
   ]
  },
  {
   "cell_type": "markdown",
   "metadata": {},
   "source": [
    "#### Eigendecomposition - Computing Eigenvectors and Eigenvalues\n",
    "\n",
    "The eigenvectors and eigenvalues of a covariance (or correlation) matrix represent the \"core\" of a PCA: The eigenvectors (principal components) determine the directions of the new feature space, and the eigenvalues determine their magnitude. In other words, the eigenvalues explain the variance of the data along the new feature axes."
   ]
  },
  {
   "cell_type": "markdown",
   "metadata": {},
   "source": [
    "#### Covariance Matrix\n",
    "\n",
    "The classic approach to PCA is to perform the eigendecomposition on the covariance matrix $\\Sigma$, which is a $d \\times d$ matrix where each element represents the covariance between two features. The covariance between two features is calculated as follows:\n",
    "\n",
    "$\\sigma_{jk} = \\frac{1}{n-1}\\sum_{i=1}^{N}\\left(  x_{ij}-\\bar{x}_j \\right)  \\left( x_{ik}-\\bar{x}_k \\right).$\n",
    "\n",
    "We can summarize the calculation of the covariance matrix via the following matrix equation:   \n",
    "$\\Sigma = \\frac{1}{n-1} \\left( (\\mathbf{X} - \\mathbf{\\bar{x}})^T\\;(\\mathbf{X} - \\mathbf{\\bar{x}}) \\right)$  \n",
    "where $\\mathbf{\\bar{x}}$ is the mean vector \n",
    "$\\mathbf{\\bar{x}} = \\sum\\limits_{i=1}^n x_{i}.$  \n",
    "The mean vector is a $d$-dimensional vector where each value in this vector represents the sample mean of a feature column in the dataset."
   ]
  },
  {
   "cell_type": "code",
   "execution_count": null,
   "metadata": {},
   "outputs": [],
   "source": [
    "mean_vec = np.mean(X_std, axis=0)\n",
    "cov_mat = (X_std - mean_vec).T.dot((X_std - mean_vec)) / (X_std.shape[0]-1)\n",
    "print('Covariance matrix \\n%s' %cov_mat)"
   ]
  },
  {
   "cell_type": "markdown",
   "metadata": {},
   "source": [
    "The more verbose way above was simply used for demonstration purposes, equivalently, we could have used the numpy `cov` function:"
   ]
  },
  {
   "cell_type": "code",
   "execution_count": null,
   "metadata": {},
   "outputs": [],
   "source": [
    "print('NumPy covariance matrix: \\n%s' %np.cov(X_std.T))"
   ]
  },
  {
   "cell_type": "markdown",
   "metadata": {},
   "source": [
    "Next, we perform an eigendecomposition on the covariance matrix:"
   ]
  },
  {
   "cell_type": "code",
   "execution_count": null,
   "metadata": {},
   "outputs": [],
   "source": [
    "cov_mat = np.cov(X_std.T)\n",
    "\n",
    "eig_vals, eig_vecs = np.linalg.eig(cov_mat)\n",
    "\n",
    "print('Eigenvectors \\n%s' %eig_vecs)\n",
    "print('\\nEigenvalues \\n%s' %eig_vals)"
   ]
  },
  {
   "cell_type": "markdown",
   "metadata": {},
   "source": [
    "#### Correlation matrix\n",
    "\n",
    "Especially, in the field of \"Finance,\" the correlation matrix typically used instead of the covariance matrix. However, the eigendecomposition of the covariance matrix (if the input data was standardized) yields the same results as a eigendecomposition on the correlation matrix, since the correlation matrix can be understood as the normalized covariance matrix.\n",
    "\n",
    "\n",
    "Eigendecomposition of the standardized data based on the correlation matrix:"
   ]
  },
  {
   "cell_type": "code",
   "execution_count": null,
   "metadata": {},
   "outputs": [],
   "source": [
    "cor_mat1 = np.corrcoef(X_std.T)\n",
    "\n",
    "eig_vals, eig_vecs = np.linalg.eig(cor_mat1)\n",
    "\n",
    "print('Eigenvectors \\n%s' %eig_vecs)\n",
    "print('\\nEigenvalues \\n%s' %eig_vals)"
   ]
  },
  {
   "cell_type": "markdown",
   "metadata": {},
   "source": [
    "Eigendecomposition of the raw data based on the correlation matrix:"
   ]
  },
  {
   "cell_type": "code",
   "execution_count": null,
   "metadata": {},
   "outputs": [],
   "source": [
    "cor_mat2 = np.corrcoef(X.T)\n",
    "\n",
    "eig_vals, eig_vecs = np.linalg.eig(cor_mat2)\n",
    "\n",
    "print('Eigenvectors \\n%s' %eig_vecs)\n",
    "print('\\nEigenvalues \\n%s' %eig_vals)"
   ]
  },
  {
   "cell_type": "markdown",
   "metadata": {},
   "source": [
    "We can clearly see that all three approaches yield the same eigenvectors and eigenvalue pairs:\n",
    "    \n",
    "- Eigendecomposition of the covariance matrix after standardizing the data.\n",
    "- Eigendecomposition of the correlation matrix.\n",
    "- Eigendecomposition of the correlation matrix after standardizing the data.\n",
    "\n",
    "\n",
    "#### Singular Vector Decomposition\n",
    "\n",
    "\n",
    "While the eigendecomposition of the covariance or correlation matrix may be more intuitiuve, most PCA implementations perform a Singular Vector Decomposition (SVD) to improve the computational efficiency. So, let us perform an SVD to confirm that the result are indeed the same:"
   ]
  },
  {
   "cell_type": "code",
   "execution_count": null,
   "metadata": {},
   "outputs": [],
   "source": [
    "u,s,v = np.linalg.svd(X_std.T)\n",
    "print('Vectors U:\\n', u)"
   ]
  },
  {
   "cell_type": "markdown",
   "metadata": {},
   "source": [
    "#### Sorting Eigenpairs\n",
    "\n",
    "The typical goal of a PCA is to reduce the dimensionality of the original feature space by projecting it onto a smaller subspace, where the eigenvectors will form the axes. However, the eigenvectors only define the directions of the new axis, since they have all the same unit length 1, which can confirmed by the following two lines of code:"
   ]
  },
  {
   "cell_type": "code",
   "execution_count": null,
   "metadata": {},
   "outputs": [],
   "source": [
    "for ev in eig_vecs:\n",
    "    np.testing.assert_array_almost_equal(1.0, np.linalg.norm(ev))\n",
    "print('Everything ok!')"
   ]
  },
  {
   "cell_type": "markdown",
   "metadata": {},
   "source": [
    "In order to decide which eigenvector(s) can dropped without losing too much information\n",
    "for the construction of lower-dimensional subspace, we need to inspect the corresponding eigenvalues: The eigenvectors with the lowest eigenvalues bear the least information about the distribution of the data; those are the ones can be dropped.  \n",
    "In order to do so, the common approach is to rank the eigenvalues from highest to lowest in order choose the top $k$ eigenvectors."
   ]
  },
  {
   "cell_type": "code",
   "execution_count": null,
   "metadata": {},
   "outputs": [],
   "source": [
    "# Make a list of (eigenvalue, eigenvector) tuples\n",
    "eig_pairs = [(np.abs(eig_vals[i]), eig_vecs[:,i]) for i in range(len(eig_vals))]\n",
    "\n",
    "# Sort the (eigenvalue, eigenvector) tuples from high to low\n",
    "eig_pairs.sort(key=lambda x: x[0], reverse=True)\n",
    "\n",
    "# Visually confirm that the list is correctly sorted by decreasing eigenvalues\n",
    "print('Eigenvalues in descending order:')\n",
    "for i in eig_pairs:\n",
    "    print(i[0])"
   ]
  },
  {
   "cell_type": "markdown",
   "metadata": {},
   "source": [
    "#### Explained Variance\n",
    "\n",
    "After sorting the eigenpairs, the next question is \"how many principal components are we going to choose for our new feature subspace?\" A useful measure is the so-called \"explained variance,\" which can be calculated from the eigenvalues. The explained variance tells us how much information (variance) can be attributed to each of the principal components."
   ]
  },
  {
   "cell_type": "code",
   "execution_count": null,
   "metadata": {
    "collapsed": true
   },
   "outputs": [],
   "source": [
    "tot = sum(eig_vals)\n",
    "var_exp = [(i / tot)*100 for i in sorted(eig_vals, reverse=True)]\n",
    "cum_var_exp = np.cumsum(var_exp)"
   ]
  },
  {
   "cell_type": "code",
   "execution_count": null,
   "metadata": {},
   "outputs": [],
   "source": [
    "with plt.style.context('seaborn-whitegrid'):\n",
    "    plt.figure(figsize=(8, 6))\n",
    "\n",
    "    plt.bar(range(4), var_exp, alpha=0.5, align='center',\n",
    "            label='individual explained variance')\n",
    "    plt.step(range(4), cum_var_exp, where='mid',\n",
    "             label='cumulative explained variance')\n",
    "    plt.ylabel('Explained variance ratio')\n",
    "    plt.xlabel('Principal components')\n",
    "    plt.legend(loc='best')\n",
    "    plt.tight_layout()\n"
   ]
  },
  {
   "cell_type": "markdown",
   "metadata": {},
   "source": [
    "The plot above clearly shows that most of the variance (72.77% of the variance to be precise) can be explained by the first principal component alone. The second principal component still bears some information (23.03%) while the third and fourth principal components can safely be dropped without losing to much information. Together, the first two principal components contain 95.8% of the information.\n",
    "\n",
    "\n",
    "\n",
    "#### Projection matrix\n",
    "\n",
    "It's about time to get to the really interesting part: The construction of the projection matrix that will be used to transform the Iris data onto the new feature subspace. Although, the name \"projection matrix\" has a nice ring to it, it is basically just a matrix of our concatenated top *k* eigenvectors.\n",
    "\n",
    "Here, we are reducing the 4-dimensional feature space to a 2-dimensional feature subspace, by choosing the \"top 2\" eigenvectors with the highest eigenvalues to construct our $d \\times k$-dimensional eigenvector matrix $\\mathbf{W}$."
   ]
  },
  {
   "cell_type": "code",
   "execution_count": null,
   "metadata": {},
   "outputs": [],
   "source": [
    "matrix_w = np.hstack((eig_pairs[0][1].reshape(4,1), \n",
    "                      eig_pairs[1][1].reshape(4,1)))\n",
    "\n",
    "print('Matrix W:\\n', matrix_w)"
   ]
  },
  {
   "cell_type": "markdown",
   "metadata": {},
   "source": [
    "#### Projecting on to the new feature space\n",
    "\n",
    "\n",
    "In this last step we will use the $4 \\times 2$-dimensional projection matrix $\\mathbf{W}$ to transform our samples onto the new subspace via the equation  \n",
    "$\\mathbf{Y} = \\mathbf{X} \\times  \\mathbf{W}$, where $\\mathbf{Y}$ is a $150\\times 2$ matrix of our transformed samples."
   ]
  },
  {
   "cell_type": "code",
   "execution_count": null,
   "metadata": {
    "collapsed": true
   },
   "outputs": [],
   "source": [
    "Y = X_std.dot(matrix_w)"
   ]
  },
  {
   "cell_type": "code",
   "execution_count": null,
   "metadata": {},
   "outputs": [],
   "source": [
    "with plt.style.context('seaborn-whitegrid'):\n",
    "    plt.figure(figsize=(8, 6))\n",
    "    for lab, col in zip(('Iris-setosa', 'Iris-versicolor', 'Iris-virginica'), \n",
    "                        ('blue', 'red', 'green')):\n",
    "        plt.scatter(Y[y==lab, 0],\n",
    "                    Y[y==lab, 1],\n",
    "                    label=lab,\n",
    "                    c=col)\n",
    "    plt.xlabel('Principal Component 1')\n",
    "    plt.ylabel('Principal Component 2')\n",
    "    plt.legend(loc='lower center')\n",
    "    plt.tight_layout()"
   ]
  },
  {
   "cell_type": "markdown",
   "metadata": {},
   "source": [
    "#### PCA with scikit-learn\n",
    "\n",
    "For educational purposes, we went a long way to apply the PCA to the Iris dataset. But luckily, there is already implementation in scikit-learn. "
   ]
  },
  {
   "cell_type": "code",
   "execution_count": null,
   "metadata": {
    "collapsed": true
   },
   "outputs": [],
   "source": [
    "from sklearn.decomposition import PCA as sklearnPCA\n",
    "sklearn_pca = sklearnPCA(n_components=2)\n",
    "Y_sklearn = sklearn_pca.fit_transform(X_std)"
   ]
  },
  {
   "cell_type": "code",
   "execution_count": null,
   "metadata": {},
   "outputs": [],
   "source": [
    "with plt.style.context('seaborn-whitegrid'):\n",
    "    plt.figure(figsize=(8, 6))\n",
    "    for lab, col in zip(('Iris-setosa', 'Iris-versicolor', 'Iris-virginica'), \n",
    "                        ('blue', 'red', 'green')):\n",
    "        plt.scatter(Y_sklearn[y==lab, 0],\n",
    "                    Y_sklearn[y==lab, 1],\n",
    "                    label=lab,\n",
    "                    c=col)\n",
    "    plt.xlabel('Principal Component 1')\n",
    "    plt.ylabel('Principal Component 2')\n",
    "    plt.legend(loc='upper center')\n",
    "    plt.tight_layout()\n",
    "    plt.show()"
   ]
  },
  {
   "cell_type": "markdown",
   "metadata": {},
   "source": [
    "# Homework 3\n",
    "\n",
    "- Implement the ridge regression algorithm through a gradient descent algorithm\n",
    "- apply it to a regression problem (with at least 10 predictors) for a chosen dataset\n",
    "- optimize the choice of lambda with R^2 and cross-validation \n",
    "- check the accuracy of the final prediction on the test part of the data set.\n",
    "- compare to a result of a simple linear regression fit\n",
    "- comment on the results"
   ]
  },
  {
   "cell_type": "code",
   "execution_count": null,
   "metadata": {
    "collapsed": true
   },
   "outputs": [],
   "source": []
  }
 ],
 "metadata": {
  "_change_revision": 0,
  "_is_fork": false,
  "anaconda-cloud": {},
  "kernelspec": {
   "display_name": "Python 3",
   "language": "python",
   "name": "python3"
  },
  "language_info": {
   "codemirror_mode": {
    "name": "ipython",
    "version": 3
   },
   "file_extension": ".py",
   "mimetype": "text/x-python",
   "name": "python",
   "nbconvert_exporter": "python",
   "pygments_lexer": "ipython3",
   "version": "3.6.4"
  }
 },
 "nbformat": 4,
 "nbformat_minor": 1
}
